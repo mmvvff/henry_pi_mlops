{
 "cells": [
  {
   "cell_type": "markdown",
   "metadata": {},
   "source": [
    "# ETL - Fase 4: Consolidamos los df para alimentar las consultas\n",
    "En esta seccion, consolidamos lo df generados en las fases anteriores de ETL. De igual manera, creamos dos subconjuntos de datos para alimentar los principales dos tipos de consulta: las funciones generales y el sistema de recomendacion (modelo ML)."
   ]
  },
  {
   "cell_type": "code",
   "execution_count": 1,
   "metadata": {},
   "outputs": [],
   "source": [
    "import os\n",
    "import pandas as pd"
   ]
  },
  {
   "cell_type": "code",
   "execution_count": 2,
   "metadata": {},
   "outputs": [],
   "source": [
    "data_movies_subset = pd.read_csv(\n",
    "    os.path.join(\"2_pipeline\",\"data_movies_subset_limpia.csv\"),index_col=0).convert_dtypes() # output paso 01\n",
    "data_movies_normalizada = pd.read_csv(\n",
    "    os.path.join(\"2_pipeline\",\"data_movies_normalizada.csv\"),index_col=0).convert_dtypes() # output paso 02\n",
    "data_credits_normalizada = pd.read_csv(\n",
    "    os.path.join(\"2_pipeline\",\"credits_normalizada.csv\"),index_col=0).convert_dtypes() # output paso 03"
   ]
  },
  {
   "cell_type": "code",
   "execution_count": 3,
   "metadata": {},
   "outputs": [
    {
     "name": "stdout",
     "output_type": "stream",
     "text": [
      "<class 'pandas.core.frame.DataFrame'>\n",
      "Index: 45346 entries, 0 to 45465\n",
      "Data columns (total 13 columns):\n",
      " #   Column             Non-Null Count  Dtype  \n",
      "---  ------             --------------  -----  \n",
      " 0   budget             45346 non-null  Int64  \n",
      " 1   pelicula_id        45346 non-null  Int64  \n",
      " 2   original_language  45335 non-null  string \n",
      " 3   overview           44405 non-null  string \n",
      " 4   popularity         45346 non-null  Float64\n",
      " 5   release_date       45346 non-null  string \n",
      " 6   revenue            45346 non-null  Int64  \n",
      " 7   runtime            45100 non-null  Int64  \n",
      " 8   title              45346 non-null  string \n",
      " 9   vote_average       45346 non-null  Float64\n",
      " 10  vote_count         45346 non-null  Int64  \n",
      " 11  release_year       45346 non-null  Int64  \n",
      " 12  return             45346 non-null  Float64\n",
      "dtypes: Float64(3), Int64(6), string(4)\n",
      "memory usage: 5.2 MB\n"
     ]
    }
   ],
   "source": [
    "data_movies_subset.info(verbose=True)"
   ]
  },
  {
   "cell_type": "code",
   "execution_count": 4,
   "metadata": {},
   "outputs": [
    {
     "name": "stdout",
     "output_type": "stream",
     "text": [
      "<class 'pandas.core.frame.DataFrame'>\n",
      "Index: 55897 entries, 0 to 55896\n",
      "Data columns (total 11 columns):\n",
      " #   Column                    Non-Null Count  Dtype \n",
      "---  ------                    --------------  ----- \n",
      " 0   pelicula_id               55897 non-null  Int64 \n",
      " 1   franquicia_id             55897 non-null  Int64 \n",
      " 2   franquicia                55897 non-null  string\n",
      " 3   productora                53879 non-null  string\n",
      " 4   productora_id             53879 non-null  Int64 \n",
      " 5   genres_id                 55754 non-null  Int64 \n",
      " 6   genres                    55754 non-null  string\n",
      " 7   pais_isocode              55285 non-null  string\n",
      " 8   pais_name                 55285 non-null  string\n",
      " 9   spoken_languages_isocode  55728 non-null  string\n",
      " 10  spoken_languages_name     55355 non-null  string\n",
      "dtypes: Int64(4), string(7)\n",
      "memory usage: 5.3 MB\n"
     ]
    }
   ],
   "source": [
    "data_movies_normalizada.info(verbose=True)"
   ]
  },
  {
   "cell_type": "code",
   "execution_count": 5,
   "metadata": {},
   "outputs": [
    {
     "name": "stdout",
     "output_type": "stream",
     "text": [
      "<class 'pandas.core.frame.DataFrame'>\n",
      "Index: 106173 entries, 0 to 106172\n",
      "Data columns (total 6 columns):\n",
      " #   Column                Non-Null Count   Dtype \n",
      "---  ------                --------------   ----- \n",
      " 0   pelicula_id           106173 non-null  Int64 \n",
      " 1   prtgnst_name          106173 non-null  string\n",
      " 2   prtgnst_gender_strng  106173 non-null  string\n",
      " 3   prtgnst_nivel         106173 non-null  Int64 \n",
      " 4   director              106138 non-null  string\n",
      " 5   executive_producer    38468 non-null   string\n",
      "dtypes: Int64(2), string(4)\n",
      "memory usage: 5.9 MB\n"
     ]
    },
    {
     "data": {
      "text/html": [
       "<div>\n",
       "<style scoped>\n",
       "    .dataframe tbody tr th:only-of-type {\n",
       "        vertical-align: middle;\n",
       "    }\n",
       "\n",
       "    .dataframe tbody tr th {\n",
       "        vertical-align: top;\n",
       "    }\n",
       "\n",
       "    .dataframe thead th {\n",
       "        text-align: right;\n",
       "    }\n",
       "</style>\n",
       "<table border=\"1\" class=\"dataframe\">\n",
       "  <thead>\n",
       "    <tr style=\"text-align: right;\">\n",
       "      <th></th>\n",
       "      <th>pelicula_id</th>\n",
       "      <th>prtgnst_name</th>\n",
       "      <th>prtgnst_gender_strng</th>\n",
       "      <th>prtgnst_nivel</th>\n",
       "      <th>director</th>\n",
       "      <th>executive_producer</th>\n",
       "    </tr>\n",
       "  </thead>\n",
       "  <tbody>\n",
       "    <tr>\n",
       "      <th>0</th>\n",
       "      <td>862</td>\n",
       "      <td>Tom Hanks</td>\n",
       "      <td>hombre</td>\n",
       "      <td>1</td>\n",
       "      <td>John Lasseter</td>\n",
       "      <td>Ed Catmull</td>\n",
       "    </tr>\n",
       "    <tr>\n",
       "      <th>1</th>\n",
       "      <td>862</td>\n",
       "      <td>Tom Hanks</td>\n",
       "      <td>hombre</td>\n",
       "      <td>1</td>\n",
       "      <td>John Lasseter</td>\n",
       "      <td>Steve Jobs</td>\n",
       "    </tr>\n",
       "    <tr>\n",
       "      <th>2</th>\n",
       "      <td>862</td>\n",
       "      <td>Tim Allen</td>\n",
       "      <td>hombre</td>\n",
       "      <td>2</td>\n",
       "      <td>John Lasseter</td>\n",
       "      <td>Ed Catmull</td>\n",
       "    </tr>\n",
       "    <tr>\n",
       "      <th>3</th>\n",
       "      <td>862</td>\n",
       "      <td>Tim Allen</td>\n",
       "      <td>hombre</td>\n",
       "      <td>2</td>\n",
       "      <td>John Lasseter</td>\n",
       "      <td>Steve Jobs</td>\n",
       "    </tr>\n",
       "    <tr>\n",
       "      <th>4</th>\n",
       "      <td>8844</td>\n",
       "      <td>Robin Williams</td>\n",
       "      <td>hombre</td>\n",
       "      <td>1</td>\n",
       "      <td>Joe Johnston</td>\n",
       "      <td>Larry J. Franco</td>\n",
       "    </tr>\n",
       "    <tr>\n",
       "      <th>5</th>\n",
       "      <td>8844</td>\n",
       "      <td>Robin Williams</td>\n",
       "      <td>hombre</td>\n",
       "      <td>1</td>\n",
       "      <td>Joe Johnston</td>\n",
       "      <td>Ted Field</td>\n",
       "    </tr>\n",
       "    <tr>\n",
       "      <th>6</th>\n",
       "      <td>8844</td>\n",
       "      <td>Robin Williams</td>\n",
       "      <td>hombre</td>\n",
       "      <td>1</td>\n",
       "      <td>Joe Johnston</td>\n",
       "      <td>Robert W. Cort</td>\n",
       "    </tr>\n",
       "    <tr>\n",
       "      <th>7</th>\n",
       "      <td>8844</td>\n",
       "      <td>Jonathan Hyde</td>\n",
       "      <td>hombre</td>\n",
       "      <td>2</td>\n",
       "      <td>Joe Johnston</td>\n",
       "      <td>Larry J. Franco</td>\n",
       "    </tr>\n",
       "    <tr>\n",
       "      <th>8</th>\n",
       "      <td>8844</td>\n",
       "      <td>Jonathan Hyde</td>\n",
       "      <td>hombre</td>\n",
       "      <td>2</td>\n",
       "      <td>Joe Johnston</td>\n",
       "      <td>Ted Field</td>\n",
       "    </tr>\n",
       "    <tr>\n",
       "      <th>9</th>\n",
       "      <td>8844</td>\n",
       "      <td>Jonathan Hyde</td>\n",
       "      <td>hombre</td>\n",
       "      <td>2</td>\n",
       "      <td>Joe Johnston</td>\n",
       "      <td>Robert W. Cort</td>\n",
       "    </tr>\n",
       "  </tbody>\n",
       "</table>\n",
       "</div>"
      ],
      "text/plain": [
       "   pelicula_id    prtgnst_name prtgnst_gender_strng  prtgnst_nivel  \\\n",
       "0          862       Tom Hanks               hombre              1   \n",
       "1          862       Tom Hanks               hombre              1   \n",
       "2          862       Tim Allen               hombre              2   \n",
       "3          862       Tim Allen               hombre              2   \n",
       "4         8844  Robin Williams               hombre              1   \n",
       "5         8844  Robin Williams               hombre              1   \n",
       "6         8844  Robin Williams               hombre              1   \n",
       "7         8844   Jonathan Hyde               hombre              2   \n",
       "8         8844   Jonathan Hyde               hombre              2   \n",
       "9         8844   Jonathan Hyde               hombre              2   \n",
       "\n",
       "        director executive_producer  \n",
       "0  John Lasseter         Ed Catmull  \n",
       "1  John Lasseter         Steve Jobs  \n",
       "2  John Lasseter         Ed Catmull  \n",
       "3  John Lasseter         Steve Jobs  \n",
       "4   Joe Johnston    Larry J. Franco  \n",
       "5   Joe Johnston          Ted Field  \n",
       "6   Joe Johnston     Robert W. Cort  \n",
       "7   Joe Johnston    Larry J. Franco  \n",
       "8   Joe Johnston          Ted Field  \n",
       "9   Joe Johnston     Robert W. Cort  "
      ]
     },
     "execution_count": 5,
     "metadata": {},
     "output_type": "execute_result"
    }
   ],
   "source": [
    "data_credits_normalizada.info(verbose=True)\n",
    "data_credits_normalizada.head(10)"
   ]
  },
  {
   "cell_type": "markdown",
   "metadata": {},
   "source": [
    "## 4.1 Analisis de disponibilidad de datos\n",
    "\n",
    "\n",
    "En esta seccion examinamos la disponibilidad de datos para nuestro universo de casos: peliculas. Conocer la disponibilidad de datos es indispensable por dos razones:\n",
    "\n",
    "1. Determina la naturaleza de los joins: Un paso previo a la union de dfs es determinar cual de los dfs contiene la mayor cantidad de informacion disponible para nuestro universo de casos: peliculas. Esto determina la naturaleza del join; es decir, si hacemos un inner o un left join. En caso que un df contenga informacion sobre un mayor numero de casos que el otro, hacemos un left join con el fin garantizar el mayor numero de registros posible.\n",
    "\n",
    "2. Afecta el desempeño de las consultas: diferencias en las disponibilidad de informacion puede afectar el desempeno de unas consultas con respecto a otras; es decir, mientras que algunas consultas pueden gozar de una gran disponibilidad de informacion, otras pueden verse seriamente afectadas por informacion limitada. Conocer esta ventajas y limitaciones nos permite anticipar futuros problemas en el desempeno de las consultas."
   ]
  },
  {
   "cell_type": "markdown",
   "metadata": {},
   "source": [
    "### 4.1.1 Descripcion de disponibilidad de informacion"
   ]
  },
  {
   "cell_type": "code",
   "execution_count": 6,
   "metadata": {},
   "outputs": [
    {
     "name": "stdout",
     "output_type": "stream",
     "text": [
      "Universo de pelicula unicas, segun df de referencia: 45346\n",
      "Universo de pelicula unicas, segun movies_normalizada: 4487\n",
      "Universo de pelicula unicas, segun credits_normalizada: 42317\n",
      "Porcentaje de valores nulos en columnas de movies_normalizada del total de registros (df referencia): 90.1 %\n",
      "Porcentaje de valores nulos en columnas de credits_normalizada del total de registros (df referencia): 6.68 %\n"
     ]
    }
   ],
   "source": [
    "# evaluamos cual df contiene informacion para el mayor numero de casos.\n",
    "movies_subset_peliculas=data_movies_subset['pelicula_id'].nunique()\n",
    "movies_normalizada_peliculas=data_movies_normalizada['pelicula_id'].nunique()\n",
    "credits_normalizada_peliculas=data_credits_normalizada['pelicula_id'].nunique()\n",
    "print(\"Universo de pelicula unicas, segun df de referencia:\",movies_subset_peliculas)\n",
    "print(\"Universo de pelicula unicas, segun movies_normalizada:\",movies_normalizada_peliculas)\n",
    "print(\"Universo de pelicula unicas, segun credits_normalizada:\",credits_normalizada_peliculas)\n",
    "print(\"Porcentaje de valores nulos en columnas de movies_normalizada del total de registros (df referencia):\",\n",
    "    round((1-(movies_normalizada_peliculas/movies_subset_peliculas))*100,2),\"%\")\n",
    "print(\"Porcentaje de valores nulos en columnas de credits_normalizada del total de registros (df referencia):\",\n",
    "    round((1-(credits_normalizada_peliculas/movies_subset_peliculas))*100,2),\"%\")"
   ]
  },
  {
   "cell_type": "markdown",
   "metadata": {},
   "source": [
    "Con base en lo anterior, la base de datos final tendria la siguientes caracteristicas:\n",
    "Todos las peliculas tendria valores nulos en alguna columna.\n",
    "Las columnas con mayor numero de valores nulos serian las columnas que corresponden al df `data_movies_normalizada`."
   ]
  },
  {
   "cell_type": "markdown",
   "metadata": {},
   "source": [
    "### 4.1.2 Implicaciones de disponibilidad de datos para las consultas\n",
    "\n",
    "Las funciones que mas se afectarian por esta baja disponibilidad de datos seria las siguientes consultas:\n",
    "\n",
    "- CUALES?????\n",
    "\n",
    "Lo anterior debe orientar nuestro diseno del modelo de ML. Un modelo que haga uso de las columnas que corresponden a data_movies_normalizada (i.e., franquicia, productora, el genero de la pelicula (genres), e idiomas hablados (spoken_languages_name)), estaria desaprovechando la disponbilidad de datos, puesto que solo tendria informacion para el ~10% de universo de casos en nuestra base de dato final.\n",
    "\n",
    "Por tal motivo, lo mejor seria hacer uso la informacion contenida en data_movies_subset y en data_credits_normalizada al diseñar el modelo de ML."
   ]
  },
  {
   "cell_type": "markdown",
   "metadata": {},
   "source": [
    "## 4.2 Generacion de dfs para alimentar las consultas"
   ]
  },
  {
   "cell_type": "code",
   "execution_count": 7,
   "metadata": {},
   "outputs": [
    {
     "name": "stdout",
     "output_type": "stream",
     "text": [
      "<class 'pandas.core.frame.DataFrame'>\n",
      "RangeIndex: 310040 entries, 0 to 310039\n",
      "Data columns (total 28 columns):\n",
      " #   Column                    Non-Null Count   Dtype  \n",
      "---  ------                    --------------   -----  \n",
      " 0   budget                    310040 non-null  Int64  \n",
      " 1   pelicula_id               310040 non-null  Int64  \n",
      " 2   original_language         310024 non-null  string \n",
      " 3   overview                  308284 non-null  string \n",
      " 4   popularity                310040 non-null  Float64\n",
      " 5   release_date              310040 non-null  string \n",
      " 6   revenue                   310040 non-null  Int64  \n",
      " 7   runtime                   309672 non-null  Int64  \n",
      " 8   title                     310040 non-null  string \n",
      " 9   vote_average              310040 non-null  Float64\n",
      " 10  vote_count                310040 non-null  Int64  \n",
      " 11  release_year              310040 non-null  Int64  \n",
      " 12  return                    310040 non-null  Float64\n",
      " 13  franquicia_id             214036 non-null  Int64  \n",
      " 14  franquicia                214036 non-null  string \n",
      " 15  productora                205197 non-null  string \n",
      " 16  productora_id             205197 non-null  Int64  \n",
      " 17  genres_id                 213763 non-null  Int64  \n",
      " 18  genres                    213763 non-null  string \n",
      " 19  pais_isocode              212644 non-null  string \n",
      " 20  pais_name                 212644 non-null  string \n",
      " 21  spoken_languages_isocode  213613 non-null  string \n",
      " 22  spoken_languages_name     211961 non-null  string \n",
      " 23  prtgnst_name              306662 non-null  string \n",
      " 24  prtgnst_gender_strng      306662 non-null  string \n",
      " 25  prtgnst_nivel             306662 non-null  Int64  \n",
      " 26  director                  306597 non-null  string \n",
      " 27  executive_producer        167540 non-null  string \n",
      "dtypes: Float64(3), Int64(10), string(15)\n",
      "memory usage: 70.1 MB\n"
     ]
    }
   ],
   "source": [
    "# exportamos el df final\n",
    "data_mvp_final_normalizada = pd.merge(\n",
    "    pd.merge(data_movies_subset, # tomamos como principal referencia el df con el mayor numero de registros\n",
    "    data_movies_normalizada,\n",
    "    how='left',\n",
    "    on=['pelicula_id']),\n",
    "    data_credits_normalizada, # tomamos como ultima referencia el df con el menor numero de registros\n",
    "    how='left',\n",
    "    on=['pelicula_id'])\n",
    "data_mvp_final_normalizada.info()"
   ]
  },
  {
   "cell_type": "markdown",
   "metadata": {},
   "source": [
    "Separamos el df final en dos subconjuntos:\n",
    "1. df para alimentar las funciones\n",
    "2. df para alimentar el modelo ml y el sistema de recomendacion."
   ]
  },
  {
   "cell_type": "markdown",
   "metadata": {},
   "source": [
    "### 4.2.1. Subconjunto de datos para alimentar las funciones"
   ]
  },
  {
   "cell_type": "code",
   "execution_count": 8,
   "metadata": {},
   "outputs": [],
   "source": [
    "# primer subconjunto: df para alimentar las funciones\n",
    "columns_funciones=[\n",
    "    'pelicula_id', # todas\n",
    "    'title', # varias\n",
    "    'original_language', # def peliculas_idioma( Idioma: str )\n",
    "    'runtime', # def peliculas_duracion( Pelicula: str )\n",
    "    'release_date', # def peliculas_duracion( Pelicula: str )\n",
    "    'franquicia', # def franquicia( Franquicia: str )\n",
    "    'budget', # def franquicia( Franquicia: str )\n",
    "    'revenue', # def franquicia( Franquicia: str )\n",
    "    'pais_name', # def peliculas_pais( Pais: str )\n",
    "    'productora', # productoras_exitosas( Productora: str ),\n",
    "    'director', # get_director( nombre_director )\n",
    "    'return', # get_director( nombre_director )\n",
    "    'release_year' # get_director( nombre_director )\n",
    "    ]"
   ]
  },
  {
   "cell_type": "code",
   "execution_count": 9,
   "metadata": {},
   "outputs": [
    {
     "name": "stdout",
     "output_type": "stream",
     "text": [
      "Universo de peliculas unicas en el df que alimenta las funciones: 45346\n",
      "<class 'pandas.core.frame.DataFrame'>\n",
      "Index: 59545 entries, 0 to 310039\n",
      "Data columns (total 13 columns):\n",
      " #   Column             Non-Null Count  Dtype  \n",
      "---  ------             --------------  -----  \n",
      " 0   pelicula_id        59545 non-null  Int64  \n",
      " 1   title              59545 non-null  string \n",
      " 2   original_language  59531 non-null  string \n",
      " 3   runtime            59283 non-null  Int64  \n",
      " 4   release_date       59545 non-null  string \n",
      " 5   franquicia         15315 non-null  string \n",
      " 6   budget             59545 non-null  Int64  \n",
      " 7   revenue            59545 non-null  Int64  \n",
      " 8   pais_name          15020 non-null  string \n",
      " 9   productora         14581 non-null  string \n",
      " 10  director           56423 non-null  string \n",
      " 11  return             59545 non-null  Float64\n",
      " 12  release_year       59545 non-null  Int64  \n",
      "dtypes: Float64(1), Int64(5), string(7)\n",
      "memory usage: 6.7 MB\n"
     ]
    }
   ],
   "source": [
    "data_mvp_funciones=data_mvp_final_normalizada.loc[:,columns_funciones].drop_duplicates()\n",
    "print(\"Universo de peliculas unicas en el df que alimenta las funciones:\",\n",
    "      data_mvp_funciones['pelicula_id'].nunique())\n",
    "data_mvp_funciones.to_csv(os.path.join(\"3_output\",\"data_mvp_final_funciones.csv\"))\n",
    "data_mvp_funciones.info()"
   ]
  },
  {
   "cell_type": "markdown",
   "metadata": {},
   "source": [
    "### 4.2.2. Subconjunto de datos para alimentar el modelo ML"
   ]
  },
  {
   "cell_type": "code",
   "execution_count": 10,
   "metadata": {},
   "outputs": [],
   "source": [
    "# segundo subconjunto: df para alimentar el modelo de ML\n",
    "columns_ml=[\n",
    "    'pelicula_id',\n",
    "    'title',\n",
    "    'popularity',\n",
    "    'vote_average',\n",
    "    'release_year',\n",
    "    'franquicia',\n",
    "    'original_language',\n",
    "    'prtgnst_name',\n",
    "    'prtgnst_gender_strng',\n",
    "    'director',\n",
    "    'executive_producer'\n",
    "    ]"
   ]
  },
  {
   "cell_type": "code",
   "execution_count": 33,
   "metadata": {},
   "outputs": [
    {
     "name": "stdout",
     "output_type": "stream",
     "text": [
      "Universo de peliculas unicas en el df que alimenta el modelo ml: 45346\n"
     ]
    }
   ],
   "source": [
    "# df final para modelo ml\n",
    "data_mvp_ml=data_mvp_final_normalizada.loc[:,columns_ml].drop_duplicates()\n",
    "print(\"Universo de peliculas unicas en el df que alimenta el modelo ml:\",\n",
    "      data_mvp_funciones['pelicula_id'].nunique())\n",
    "#data_mvp_funciones.to_csv(os.path.join(\"3_output\",\"data_mvp_final_ml.csv\"))\n",
    "#data_mvp_funciones.info()"
   ]
  },
  {
   "cell_type": "markdown",
   "metadata": {},
   "source": [
    "#### 4.2.2.1. Imputacion de valores nulos"
   ]
  },
  {
   "cell_type": "code",
   "execution_count": 34,
   "metadata": {},
   "outputs": [
    {
     "name": "stdout",
     "output_type": "stream",
     "text": [
      "<class 'pandas.core.frame.DataFrame'>\n",
      "Index: 109168 entries, 0 to 310039\n",
      "Data columns (total 11 columns):\n",
      " #   Column                Non-Null Count   Dtype  \n",
      "---  ------                --------------   -----  \n",
      " 0   pelicula_id           109168 non-null  Int64  \n",
      " 1   title                 109168 non-null  string \n",
      " 2   popularity            109168 non-null  Float64\n",
      " 3   vote_average          109168 non-null  Float64\n",
      " 4   release_year          109168 non-null  Int64  \n",
      " 5   franquicia            13178 non-null   string \n",
      " 6   original_language     109152 non-null  string \n",
      " 7   prtgnst_name          106125 non-null  string \n",
      " 8   prtgnst_gender_strng  106125 non-null  string \n",
      " 9   director              106092 non-null  string \n",
      " 10  executive_producer    38458 non-null   string \n",
      "dtypes: Float64(2), Int64(2), string(7)\n",
      "memory usage: 10.4 MB\n"
     ]
    },
    {
     "data": {
      "text/plain": [
       "pelicula_id                 0\n",
       "title                       0\n",
       "popularity                  0\n",
       "vote_average                0\n",
       "release_year                0\n",
       "franquicia              95990\n",
       "original_language          16\n",
       "prtgnst_name             3043\n",
       "prtgnst_gender_strng     3043\n",
       "director                 3076\n",
       "executive_producer      70710\n",
       "dtype: int64"
      ]
     },
     "execution_count": 34,
     "metadata": {},
     "output_type": "execute_result"
    }
   ],
   "source": [
    "# identificamos las columnas con nulos\n",
    "data_mvp_ml.info()\n",
    "data_mvp_ml.isna().sum()"
   ]
  },
  {
   "cell_type": "code",
   "execution_count": 35,
   "metadata": {},
   "outputs": [
    {
     "name": "stdout",
     "output_type": "stream",
     "text": [
      "Numero de peliculas sin idioma: 11\n"
     ]
    },
    {
     "data": {
      "text/html": [
       "<div>\n",
       "<style scoped>\n",
       "    .dataframe tbody tr th:only-of-type {\n",
       "        vertical-align: middle;\n",
       "    }\n",
       "\n",
       "    .dataframe tbody tr th {\n",
       "        vertical-align: top;\n",
       "    }\n",
       "\n",
       "    .dataframe thead th {\n",
       "        text-align: right;\n",
       "    }\n",
       "</style>\n",
       "<table border=\"1\" class=\"dataframe\">\n",
       "  <thead>\n",
       "    <tr style=\"text-align: right;\">\n",
       "      <th></th>\n",
       "      <th>pelicula_id</th>\n",
       "      <th>title</th>\n",
       "      <th>popularity</th>\n",
       "      <th>vote_average</th>\n",
       "      <th>release_year</th>\n",
       "      <th>franquicia</th>\n",
       "      <th>original_language</th>\n",
       "      <th>prtgnst_name</th>\n",
       "      <th>prtgnst_gender_strng</th>\n",
       "      <th>director</th>\n",
       "      <th>executive_producer</th>\n",
       "    </tr>\n",
       "  </thead>\n",
       "  <tbody>\n",
       "    <tr>\n",
       "      <th>194537</th>\n",
       "      <td>283101</td>\n",
       "      <td>Shadowing the Third Man</td>\n",
       "      <td>0.017007</td>\n",
       "      <td>0.0</td>\n",
       "      <td>2004</td>\n",
       "      <td>&lt;NA&gt;</td>\n",
       "      <td>&lt;NA&gt;</td>\n",
       "      <td>John Hurt</td>\n",
       "      <td>hombre</td>\n",
       "      <td>Frederick Baker</td>\n",
       "      <td>&lt;NA&gt;</td>\n",
       "    </tr>\n",
       "    <tr>\n",
       "      <th>212270</th>\n",
       "      <td>103902</td>\n",
       "      <td>Unfinished Sky</td>\n",
       "      <td>0.359818</td>\n",
       "      <td>6.4</td>\n",
       "      <td>2007</td>\n",
       "      <td>&lt;NA&gt;</td>\n",
       "      <td>&lt;NA&gt;</td>\n",
       "      <td>William McInnes</td>\n",
       "      <td>hombre</td>\n",
       "      <td>Peter Duncan</td>\n",
       "      <td>&lt;NA&gt;</td>\n",
       "    </tr>\n",
       "    <tr>\n",
       "      <th>212271</th>\n",
       "      <td>103902</td>\n",
       "      <td>Unfinished Sky</td>\n",
       "      <td>0.359818</td>\n",
       "      <td>6.4</td>\n",
       "      <td>2007</td>\n",
       "      <td>&lt;NA&gt;</td>\n",
       "      <td>&lt;NA&gt;</td>\n",
       "      <td>Monic Hendrickx</td>\n",
       "      <td>mujer</td>\n",
       "      <td>Peter Duncan</td>\n",
       "      <td>&lt;NA&gt;</td>\n",
       "    </tr>\n",
       "  </tbody>\n",
       "</table>\n",
       "</div>"
      ],
      "text/plain": [
       "        pelicula_id                    title  popularity  vote_average  \\\n",
       "194537       283101  Shadowing the Third Man    0.017007           0.0   \n",
       "212270       103902           Unfinished Sky    0.359818           6.4   \n",
       "212271       103902           Unfinished Sky    0.359818           6.4   \n",
       "\n",
       "        release_year franquicia original_language     prtgnst_name  \\\n",
       "194537          2004       <NA>              <NA>        John Hurt   \n",
       "212270          2007       <NA>              <NA>  William McInnes   \n",
       "212271          2007       <NA>              <NA>  Monic Hendrickx   \n",
       "\n",
       "       prtgnst_gender_strng         director executive_producer  \n",
       "194537               hombre  Frederick Baker               <NA>  \n",
       "212270               hombre     Peter Duncan               <NA>  \n",
       "212271                mujer     Peter Duncan               <NA>  "
      ]
     },
     "execution_count": 35,
     "metadata": {},
     "output_type": "execute_result"
    }
   ],
   "source": [
    "# Evaluamos la cantidad de peliculas sin idioma\n",
    "print(\"Numero de peliculas sin idioma:\",data_mvp_ml.loc[data_mvp_ml['original_language'].isna()==True]['pelicula_id'].nunique())\n",
    "\n",
    "# guardamos la posicion de las filas para comparar el resultado de la imputacion\n",
    "language_null_index=data_mvp_ml.loc[data_mvp_ml['original_language'].isna()==True].index\n",
    "\n",
    "# visualizamos\n",
    "data_mvp_ml.loc[data_mvp_ml['original_language'].isna()==True].head(3)\n"
   ]
  },
  {
   "cell_type": "code",
   "execution_count": 37,
   "metadata": {},
   "outputs": [
    {
     "name": "stdout",
     "output_type": "stream",
     "text": [
      "Ejemplo de identificacion de idioma para 'Lettre d'une inconnue': fr\n"
     ]
    },
    {
     "data": {
      "text/html": [
       "<div>\n",
       "<style scoped>\n",
       "    .dataframe tbody tr th:only-of-type {\n",
       "        vertical-align: middle;\n",
       "    }\n",
       "\n",
       "    .dataframe tbody tr th {\n",
       "        vertical-align: top;\n",
       "    }\n",
       "\n",
       "    .dataframe thead th {\n",
       "        text-align: right;\n",
       "    }\n",
       "</style>\n",
       "<table border=\"1\" class=\"dataframe\">\n",
       "  <thead>\n",
       "    <tr style=\"text-align: right;\">\n",
       "      <th></th>\n",
       "      <th>pelicula_id</th>\n",
       "      <th>title</th>\n",
       "      <th>original_language</th>\n",
       "    </tr>\n",
       "  </thead>\n",
       "  <tbody>\n",
       "    <tr>\n",
       "      <th>194537</th>\n",
       "      <td>283101</td>\n",
       "      <td>Shadowing the Third Man</td>\n",
       "      <td>en</td>\n",
       "    </tr>\n",
       "    <tr>\n",
       "      <th>212270</th>\n",
       "      <td>103902</td>\n",
       "      <td>Unfinished Sky</td>\n",
       "      <td>en</td>\n",
       "    </tr>\n",
       "    <tr>\n",
       "      <th>212271</th>\n",
       "      <td>103902</td>\n",
       "      <td>Unfinished Sky</td>\n",
       "      <td>en</td>\n",
       "    </tr>\n",
       "    <tr>\n",
       "      <th>219025</th>\n",
       "      <td>359195</td>\n",
       "      <td>13 Fighting Men</td>\n",
       "      <td>en</td>\n",
       "    </tr>\n",
       "    <tr>\n",
       "      <th>269410</th>\n",
       "      <td>147050</td>\n",
       "      <td>Lambchops</td>\n",
       "      <td>ca</td>\n",
       "    </tr>\n",
       "    <tr>\n",
       "      <th>269411</th>\n",
       "      <td>147050</td>\n",
       "      <td>Lambchops</td>\n",
       "      <td>ca</td>\n",
       "    </tr>\n",
       "    <tr>\n",
       "      <th>284685</th>\n",
       "      <td>257095</td>\n",
       "      <td>Prince Bayaya</td>\n",
       "      <td>tr</td>\n",
       "    </tr>\n",
       "    <tr>\n",
       "      <th>296700</th>\n",
       "      <td>332742</td>\n",
       "      <td>Song of Lahore</td>\n",
       "      <td>en</td>\n",
       "    </tr>\n",
       "    <tr>\n",
       "      <th>299040</th>\n",
       "      <td>144410</td>\n",
       "      <td>Annabelle Serpentine Dance</td>\n",
       "      <td>fr</td>\n",
       "    </tr>\n",
       "    <tr>\n",
       "      <th>299041</th>\n",
       "      <td>144410</td>\n",
       "      <td>Annabelle Serpentine Dance</td>\n",
       "      <td>fr</td>\n",
       "    </tr>\n",
       "    <tr>\n",
       "      <th>306165</th>\n",
       "      <td>380438</td>\n",
       "      <td>Lettre d'une inconnue</td>\n",
       "      <td>fr</td>\n",
       "    </tr>\n",
       "    <tr>\n",
       "      <th>307123</th>\n",
       "      <td>381096</td>\n",
       "      <td>Yarn</td>\n",
       "      <td>tr</td>\n",
       "    </tr>\n",
       "    <tr>\n",
       "      <th>307124</th>\n",
       "      <td>381096</td>\n",
       "      <td>Yarn</td>\n",
       "      <td>tr</td>\n",
       "    </tr>\n",
       "    <tr>\n",
       "      <th>307125</th>\n",
       "      <td>381096</td>\n",
       "      <td>Yarn</td>\n",
       "      <td>tr</td>\n",
       "    </tr>\n",
       "    <tr>\n",
       "      <th>307598</th>\n",
       "      <td>381525</td>\n",
       "      <td>WiNWiN</td>\n",
       "      <td>sw</td>\n",
       "    </tr>\n",
       "    <tr>\n",
       "      <th>307747</th>\n",
       "      <td>104473</td>\n",
       "      <td>The Surrender of Tournavos</td>\n",
       "      <td>en</td>\n",
       "    </tr>\n",
       "  </tbody>\n",
       "</table>\n",
       "</div>"
      ],
      "text/plain": [
       "        pelicula_id                       title original_language\n",
       "194537       283101     Shadowing the Third Man                en\n",
       "212270       103902              Unfinished Sky                en\n",
       "212271       103902              Unfinished Sky                en\n",
       "219025       359195             13 Fighting Men                en\n",
       "269410       147050                   Lambchops                ca\n",
       "269411       147050                   Lambchops                ca\n",
       "284685       257095               Prince Bayaya                tr\n",
       "296700       332742              Song of Lahore                en\n",
       "299040       144410  Annabelle Serpentine Dance                fr\n",
       "299041       144410  Annabelle Serpentine Dance                fr\n",
       "306165       380438       Lettre d'une inconnue                fr\n",
       "307123       381096                        Yarn                tr\n",
       "307124       381096                        Yarn                tr\n",
       "307125       381096                        Yarn                tr\n",
       "307598       381525                      WiNWiN                sw\n",
       "307747       104473  The Surrender of Tournavos                en"
      ]
     },
     "execution_count": 37,
     "metadata": {},
     "output_type": "execute_result"
    }
   ],
   "source": [
    "# Imputamos en idioma con base en el titulo de la pelicula\n",
    "from langdetect import detect, DetectorFactory\n",
    "DetectorFactory.seed = 0\n",
    "print(\"Ejemplo de identificacion de idioma para 'Lettre d'une inconnue':\",detect(\"Lettre d'une inconnue\"))\n",
    "\n",
    "language_fill = data_mvp_ml.loc[\n",
    "    data_mvp_ml['original_language'].isna()==True, 'title'].apply(detect) # aplicamos la funcion de identificacion de idiomas a los casos nulos\n",
    "data_mvp_ml.loc[\n",
    "    data_mvp_ml['original_language'].isnull() & (data_mvp_ml['original_language'].isna()==True), # condiciones\n",
    "    'original_language'] = language_fill # imputamos los valores al base de datos\n",
    "\n",
    "# visualizamos los cambios realizados\n",
    "data_mvp_ml[['pelicula_id','title','original_language']].loc[language_null_index] "
   ]
  },
  {
   "cell_type": "code",
   "execution_count": 45,
   "metadata": {},
   "outputs": [],
   "source": [
    "# asumimos que los valores nulos en franquicia corresponden a peliculas que no pertnenecen a ninguna franquicia.\n",
    "# Con base en lo anterior, imputamos el valor 'Sin franquicia' para los casos nulos\n",
    "data_mvp_ml['franquicia'].fillna('Sin franquicia', inplace = True)"
   ]
  },
  {
   "cell_type": "code",
   "execution_count": 38,
   "metadata": {},
   "outputs": [
    {
     "name": "stdout",
     "output_type": "stream",
     "text": [
      "<class 'pandas.core.frame.DataFrame'>\n",
      "Index: 109168 entries, 0 to 310039\n",
      "Data columns (total 11 columns):\n",
      " #   Column                Non-Null Count   Dtype  \n",
      "---  ------                --------------   -----  \n",
      " 0   pelicula_id           109168 non-null  Int64  \n",
      " 1   title                 109168 non-null  string \n",
      " 2   popularity            109168 non-null  Float64\n",
      " 3   vote_average          109168 non-null  Float64\n",
      " 4   release_year          109168 non-null  Int64  \n",
      " 5   franquicia            13178 non-null   string \n",
      " 6   original_language     109168 non-null  string \n",
      " 7   prtgnst_name          106125 non-null  string \n",
      " 8   prtgnst_gender_strng  106125 non-null  string \n",
      " 9   director              106092 non-null  string \n",
      " 10  executive_producer    38458 non-null   string \n",
      "dtypes: Float64(2), Int64(2), string(7)\n",
      "memory usage: 14.4 MB\n"
     ]
    },
    {
     "data": {
      "text/plain": [
       "pelicula_id                 0\n",
       "title                       0\n",
       "popularity                  0\n",
       "vote_average                0\n",
       "release_year                0\n",
       "franquicia              95990\n",
       "original_language           0\n",
       "prtgnst_name             3043\n",
       "prtgnst_gender_strng     3043\n",
       "director                 3076\n",
       "executive_producer      70710\n",
       "dtype: int64"
      ]
     },
     "execution_count": 38,
     "metadata": {},
     "output_type": "execute_result"
    }
   ],
   "source": [
    "# Nuestros resultados despues de la primera fase de imputacion\n",
    "data_mvp_ml.info()\n",
    "data_mvp_ml.isna().sum()"
   ]
  },
  {
   "cell_type": "markdown",
   "metadata": {},
   "source": [
    "#### 4.2.2.2. Imputacion de valores y creacion del grupo 'peliculas de baja circulacion'\n",
    "\n",
    "Nos concentramos en las columnas restantes que contienen nulos."
   ]
  },
  {
   "cell_type": "code",
   "execution_count": 40,
   "metadata": {},
   "outputs": [
    {
     "data": {
      "text/plain": [
       "prtgnst_name             3043\n",
       "prtgnst_gender_strng     3043\n",
       "director                 3076\n",
       "executive_producer      70710\n",
       "dtype: int64"
      ]
     },
     "execution_count": 40,
     "metadata": {},
     "output_type": "execute_result"
    }
   ],
   "source": [
    "columns_grupo_bjcrclcn=[\n",
    "    'prtgnst_name',\n",
    "    'prtgnst_gender_strng',\n",
    "    'director',\n",
    "    'executive_producer']\n",
    "data_mvp_ml[columns_grupo_bjcrclcn].isna().sum()"
   ]
  },
  {
   "cell_type": "markdown",
   "metadata": {},
   "source": [
    "Consideramos las peliculas que contienen valores nulos en estas columnas pertenecen a un grupo: peliculas de baja circulacion. El website the IMDB señala que su fuente de datos no es unicamente estudios de produccion y realizadores de cine, sino que \"[...] la mayor parte de nuestra información procede de profesionales y visitantes\" ([IMDB](https://help.imdb.com/article/imdb/general-information/where-does-the-information-on-imdb-come-from/GGD7NGF5X3ECFKNN?ref_=helpart_nav_17#)). Por tanto, consideramos que si una pelicula no contiene informacion en la base de datos IMDB es por que pertenece a un grupo que denominamos \"peliculas de baja circulacion\". Por tal motivo, imputamos el valor `desconocido` en los casos `NA` para asociar la membresia de una pelicula con dicho grupo.\n",
    "\n",
    "A su vez, la membresia al grupo \"peliculas de baja circulacion\" ayuda a capturar diferentes intensidades de membresia. Por ejemplo, una pelicula podria tener valores nulos en solo un par de columnas, mientras que otra pelicula podria tener valores nulos en varias columnas; la interseccion de `desconocido` en dos columnas señalaria un caso de bajo grado de \"poca circulacion\", mientras que la interseccion de varias columnas con el valor `desconocido` señalaria un alto grado de membresia al grupo \"peliculas de baja circulacion\". De esta manera, incorporamos a nuestro modelo ML no solo la membresia al grupo \"peliculas de baja circulacion\" sino tambien diferentes intensidades de membresia, permitiendo la identificacion de clusters que de otra manera (p. ej., eliminando los valores nulos) no seria posible."
   ]
  },
  {
   "cell_type": "code",
   "execution_count": 16,
   "metadata": {},
   "outputs": [
    {
     "data": {
      "text/html": [
       "<div>\n",
       "<style scoped>\n",
       "    .dataframe tbody tr th:only-of-type {\n",
       "        vertical-align: middle;\n",
       "    }\n",
       "\n",
       "    .dataframe tbody tr th {\n",
       "        vertical-align: top;\n",
       "    }\n",
       "\n",
       "    .dataframe thead th {\n",
       "        text-align: right;\n",
       "    }\n",
       "</style>\n",
       "<table border=\"1\" class=\"dataframe\">\n",
       "  <thead>\n",
       "    <tr style=\"text-align: right;\">\n",
       "      <th></th>\n",
       "      <th>pelicula_id</th>\n",
       "      <th>title</th>\n",
       "      <th>popularity</th>\n",
       "      <th>vote_average</th>\n",
       "      <th>release_year</th>\n",
       "      <th>franquicia</th>\n",
       "      <th>original_language</th>\n",
       "      <th>prtgnst_name</th>\n",
       "      <th>prtgnst_gender_strng</th>\n",
       "      <th>director</th>\n",
       "      <th>executive_producer</th>\n",
       "    </tr>\n",
       "  </thead>\n",
       "  <tbody>\n",
       "    <tr>\n",
       "      <th>914</th>\n",
       "      <td>124639</td>\n",
       "      <td>Target</td>\n",
       "      <td>0.001205</td>\n",
       "      <td>0.0</td>\n",
       "      <td>1995</td>\n",
       "      <td>&lt;NA&gt;</td>\n",
       "      <td>en</td>\n",
       "      <td>&lt;NA&gt;</td>\n",
       "      <td>&lt;NA&gt;</td>\n",
       "      <td>&lt;NA&gt;</td>\n",
       "      <td>&lt;NA&gt;</td>\n",
       "    </tr>\n",
       "    <tr>\n",
       "      <th>1648</th>\n",
       "      <td>56088</td>\n",
       "      <td>The Show</td>\n",
       "      <td>0.159596</td>\n",
       "      <td>5.3</td>\n",
       "      <td>1995</td>\n",
       "      <td>&lt;NA&gt;</td>\n",
       "      <td>en</td>\n",
       "      <td>&lt;NA&gt;</td>\n",
       "      <td>&lt;NA&gt;</td>\n",
       "      <td>&lt;NA&gt;</td>\n",
       "      <td>&lt;NA&gt;</td>\n",
       "    </tr>\n",
       "    <tr>\n",
       "      <th>1947</th>\n",
       "      <td>43475</td>\n",
       "      <td>Gumby: The Movie</td>\n",
       "      <td>0.090452</td>\n",
       "      <td>5.0</td>\n",
       "      <td>1995</td>\n",
       "      <td>&lt;NA&gt;</td>\n",
       "      <td>en</td>\n",
       "      <td>&lt;NA&gt;</td>\n",
       "      <td>&lt;NA&gt;</td>\n",
       "      <td>&lt;NA&gt;</td>\n",
       "      <td>&lt;NA&gt;</td>\n",
       "    </tr>\n",
       "  </tbody>\n",
       "</table>\n",
       "</div>"
      ],
      "text/plain": [
       "      pelicula_id             title  popularity  vote_average  release_year  \\\n",
       "914        124639            Target    0.001205           0.0          1995   \n",
       "1648        56088          The Show    0.159596           5.3          1995   \n",
       "1947        43475  Gumby: The Movie    0.090452           5.0          1995   \n",
       "\n",
       "     franquicia original_language prtgnst_name prtgnst_gender_strng director  \\\n",
       "914        <NA>                en         <NA>                 <NA>     <NA>   \n",
       "1648       <NA>                en         <NA>                 <NA>     <NA>   \n",
       "1947       <NA>                en         <NA>                 <NA>     <NA>   \n",
       "\n",
       "     executive_producer  \n",
       "914                <NA>  \n",
       "1648               <NA>  \n",
       "1947               <NA>  "
      ]
     },
     "execution_count": 16,
     "metadata": {},
     "output_type": "execute_result"
    }
   ],
   "source": [
    "# algunos casos de peliculas que pertenecen al grupo \"peliculas con baja circulacion\"\n",
    "data_mvp_ml.loc[data_mvp_ml['director'].isna()==True].head(3)\n"
   ]
  },
  {
   "cell_type": "code",
   "execution_count": 44,
   "metadata": {},
   "outputs": [],
   "source": [
    "# inputamos valores nulos con las columnas seleccionadas con el valor 'desconocido';\n",
    "# como todas las columnas son string, no hay problemas de cambio en el tipo de dato.\n",
    "data_mvp_ml[columns_grupo_bjcrclcn]=data_mvp_ml[columns_grupo_bjcrclcn].fillna('Sin franquicia')"
   ]
  },
  {
   "cell_type": "code",
   "execution_count": 47,
   "metadata": {},
   "outputs": [
    {
     "name": "stdout",
     "output_type": "stream",
     "text": [
      "<class 'pandas.core.frame.DataFrame'>\n",
      "Index: 109168 entries, 0 to 310039\n",
      "Data columns (total 11 columns):\n",
      " #   Column                Non-Null Count   Dtype  \n",
      "---  ------                --------------   -----  \n",
      " 0   pelicula_id           109168 non-null  Int64  \n",
      " 1   title                 109168 non-null  string \n",
      " 2   popularity            109168 non-null  Float64\n",
      " 3   vote_average          109168 non-null  Float64\n",
      " 4   release_year          109168 non-null  Int64  \n",
      " 5   franquicia            109168 non-null  string \n",
      " 6   original_language     109168 non-null  string \n",
      " 7   prtgnst_name          109168 non-null  string \n",
      " 8   prtgnst_gender_strng  109168 non-null  string \n",
      " 9   director              109168 non-null  string \n",
      " 10  executive_producer    109168 non-null  string \n",
      "dtypes: Float64(2), Int64(2), string(7)\n",
      "memory usage: 14.4 MB\n"
     ]
    },
    {
     "data": {
      "text/plain": [
       "pelicula_id             0\n",
       "title                   0\n",
       "popularity              0\n",
       "vote_average            0\n",
       "release_year            0\n",
       "franquicia              0\n",
       "original_language       0\n",
       "prtgnst_name            0\n",
       "prtgnst_gender_strng    0\n",
       "director                0\n",
       "executive_producer      0\n",
       "dtype: int64"
      ]
     },
     "execution_count": 47,
     "metadata": {},
     "output_type": "execute_result"
    }
   ],
   "source": [
    "# El resultado despues de completar todas las fases de imputacion: exportamos el df para alimentar el modelo ML\n",
    "data_mvp_ml.to_csv(os.path.join(\"3_output\",\"data_mvp_final_ml.csv\"))\n",
    "data_mvp_ml.info()\n",
    "data_mvp_ml.isna().sum()"
   ]
  }
 ],
 "metadata": {
  "kernelspec": {
   "display_name": "pandas_scikit",
   "language": "python",
   "name": "python3"
  },
  "language_info": {
   "codemirror_mode": {
    "name": "ipython",
    "version": 3
   },
   "file_extension": ".py",
   "mimetype": "text/x-python",
   "name": "python",
   "nbconvert_exporter": "python",
   "pygments_lexer": "ipython3",
   "version": "3.10.12"
  },
  "orig_nbformat": 4
 },
 "nbformat": 4,
 "nbformat_minor": 2
}
