{
 "cells": [
  {
   "cell_type": "markdown",
   "metadata": {},
   "source": [
    "# ETL - Fase 4: Consolidamos los df para alimentar las consultas\n",
    "En esta seccion, consolidamos lo df generados en las fases anteriores de ETL. De igual manera, creamos dos subconjuntos de datos para alimentar los principales dos tipos de consulta: las funciones generales y el sistema de recomendacion (modelo ML)."
   ]
  },
  {
   "cell_type": "code",
   "execution_count": 1,
   "metadata": {},
   "outputs": [],
   "source": [
    "import os\n",
    "import pandas as pd"
   ]
  },
  {
   "cell_type": "code",
   "execution_count": 2,
   "metadata": {},
   "outputs": [],
   "source": [
    "data_movies_subset = pd.read_csv(\n",
    "    os.path.join(\"2_pipeline\",\"data_movies_subset_limpia.csv\"),index_col=0).convert_dtypes() # output paso 01\n",
    "data_movies_normalizada = pd.read_csv(\n",
    "    os.path.join(\"2_pipeline\",\"data_movies_normalizada.csv\"),index_col=0).convert_dtypes() # output paso 02\n",
    "data_credits_normalizada = pd.read_csv(\n",
    "    os.path.join(\"2_pipeline\",\"credits_normalizada.csv\"),index_col=0).convert_dtypes() # output paso 03"
   ]
  },
  {
   "cell_type": "code",
   "execution_count": 3,
   "metadata": {},
   "outputs": [
    {
     "name": "stdout",
     "output_type": "stream",
     "text": [
      "<class 'pandas.core.frame.DataFrame'>\n",
      "Index: 45346 entries, 0 to 45465\n",
      "Data columns (total 13 columns):\n",
      " #   Column             Non-Null Count  Dtype  \n",
      "---  ------             --------------  -----  \n",
      " 0   budget             45346 non-null  Int64  \n",
      " 1   pelicula_id        45346 non-null  Int64  \n",
      " 2   original_language  45335 non-null  string \n",
      " 3   overview           44405 non-null  string \n",
      " 4   popularity         45346 non-null  Float64\n",
      " 5   release_date       45346 non-null  string \n",
      " 6   revenue            45346 non-null  Int64  \n",
      " 7   runtime            45100 non-null  Int64  \n",
      " 8   title              45346 non-null  string \n",
      " 9   vote_average       45346 non-null  Float64\n",
      " 10  vote_count         45346 non-null  Int64  \n",
      " 11  release_year       45346 non-null  Int64  \n",
      " 12  return             45346 non-null  Float64\n",
      "dtypes: Float64(3), Int64(6), string(4)\n",
      "memory usage: 5.2 MB\n"
     ]
    }
   ],
   "source": [
    "data_movies_subset.info(verbose=True)"
   ]
  },
  {
   "cell_type": "code",
   "execution_count": 4,
   "metadata": {},
   "outputs": [
    {
     "name": "stdout",
     "output_type": "stream",
     "text": [
      "<class 'pandas.core.frame.DataFrame'>\n",
      "Index: 55897 entries, 0 to 55896\n",
      "Data columns (total 11 columns):\n",
      " #   Column                    Non-Null Count  Dtype \n",
      "---  ------                    --------------  ----- \n",
      " 0   pelicula_id               55897 non-null  Int64 \n",
      " 1   franquicia_id             55897 non-null  Int64 \n",
      " 2   franquicia                55897 non-null  string\n",
      " 3   productora                53879 non-null  string\n",
      " 4   productora_id             53879 non-null  Int64 \n",
      " 5   genres_id                 55754 non-null  Int64 \n",
      " 6   genres                    55754 non-null  string\n",
      " 7   pais_isocode              55285 non-null  string\n",
      " 8   pais_name                 55285 non-null  string\n",
      " 9   spoken_languages_isocode  55728 non-null  string\n",
      " 10  spoken_languages_name     55355 non-null  string\n",
      "dtypes: Int64(4), string(7)\n",
      "memory usage: 5.3 MB\n"
     ]
    }
   ],
   "source": [
    "data_movies_normalizada.info(verbose=True)"
   ]
  },
  {
   "cell_type": "code",
   "execution_count": 5,
   "metadata": {},
   "outputs": [
    {
     "name": "stdout",
     "output_type": "stream",
     "text": [
      "<class 'pandas.core.frame.DataFrame'>\n",
      "Index: 106173 entries, 0 to 106172\n",
      "Data columns (total 6 columns):\n",
      " #   Column                Non-Null Count   Dtype \n",
      "---  ------                --------------   ----- \n",
      " 0   pelicula_id           106173 non-null  Int64 \n",
      " 1   prtgnst_name          106173 non-null  string\n",
      " 2   prtgnst_gender_strng  106173 non-null  string\n",
      " 3   prtgnst_nivel         106173 non-null  Int64 \n",
      " 4   director              106138 non-null  string\n",
      " 5   executive_producer    38468 non-null   string\n",
      "dtypes: Int64(2), string(4)\n",
      "memory usage: 5.9 MB\n"
     ]
    },
    {
     "data": {
      "text/html": [
       "<div>\n",
       "<style scoped>\n",
       "    .dataframe tbody tr th:only-of-type {\n",
       "        vertical-align: middle;\n",
       "    }\n",
       "\n",
       "    .dataframe tbody tr th {\n",
       "        vertical-align: top;\n",
       "    }\n",
       "\n",
       "    .dataframe thead th {\n",
       "        text-align: right;\n",
       "    }\n",
       "</style>\n",
       "<table border=\"1\" class=\"dataframe\">\n",
       "  <thead>\n",
       "    <tr style=\"text-align: right;\">\n",
       "      <th></th>\n",
       "      <th>pelicula_id</th>\n",
       "      <th>prtgnst_name</th>\n",
       "      <th>prtgnst_gender_strng</th>\n",
       "      <th>prtgnst_nivel</th>\n",
       "      <th>director</th>\n",
       "      <th>executive_producer</th>\n",
       "    </tr>\n",
       "  </thead>\n",
       "  <tbody>\n",
       "    <tr>\n",
       "      <th>0</th>\n",
       "      <td>862</td>\n",
       "      <td>Tom Hanks</td>\n",
       "      <td>hombre</td>\n",
       "      <td>1</td>\n",
       "      <td>John Lasseter</td>\n",
       "      <td>Ed Catmull</td>\n",
       "    </tr>\n",
       "    <tr>\n",
       "      <th>1</th>\n",
       "      <td>862</td>\n",
       "      <td>Tom Hanks</td>\n",
       "      <td>hombre</td>\n",
       "      <td>1</td>\n",
       "      <td>John Lasseter</td>\n",
       "      <td>Steve Jobs</td>\n",
       "    </tr>\n",
       "    <tr>\n",
       "      <th>2</th>\n",
       "      <td>862</td>\n",
       "      <td>Tim Allen</td>\n",
       "      <td>hombre</td>\n",
       "      <td>2</td>\n",
       "      <td>John Lasseter</td>\n",
       "      <td>Ed Catmull</td>\n",
       "    </tr>\n",
       "    <tr>\n",
       "      <th>3</th>\n",
       "      <td>862</td>\n",
       "      <td>Tim Allen</td>\n",
       "      <td>hombre</td>\n",
       "      <td>2</td>\n",
       "      <td>John Lasseter</td>\n",
       "      <td>Steve Jobs</td>\n",
       "    </tr>\n",
       "    <tr>\n",
       "      <th>4</th>\n",
       "      <td>8844</td>\n",
       "      <td>Robin Williams</td>\n",
       "      <td>hombre</td>\n",
       "      <td>1</td>\n",
       "      <td>Joe Johnston</td>\n",
       "      <td>Larry J. Franco</td>\n",
       "    </tr>\n",
       "    <tr>\n",
       "      <th>5</th>\n",
       "      <td>8844</td>\n",
       "      <td>Robin Williams</td>\n",
       "      <td>hombre</td>\n",
       "      <td>1</td>\n",
       "      <td>Joe Johnston</td>\n",
       "      <td>Ted Field</td>\n",
       "    </tr>\n",
       "    <tr>\n",
       "      <th>6</th>\n",
       "      <td>8844</td>\n",
       "      <td>Robin Williams</td>\n",
       "      <td>hombre</td>\n",
       "      <td>1</td>\n",
       "      <td>Joe Johnston</td>\n",
       "      <td>Robert W. Cort</td>\n",
       "    </tr>\n",
       "    <tr>\n",
       "      <th>7</th>\n",
       "      <td>8844</td>\n",
       "      <td>Jonathan Hyde</td>\n",
       "      <td>hombre</td>\n",
       "      <td>2</td>\n",
       "      <td>Joe Johnston</td>\n",
       "      <td>Larry J. Franco</td>\n",
       "    </tr>\n",
       "    <tr>\n",
       "      <th>8</th>\n",
       "      <td>8844</td>\n",
       "      <td>Jonathan Hyde</td>\n",
       "      <td>hombre</td>\n",
       "      <td>2</td>\n",
       "      <td>Joe Johnston</td>\n",
       "      <td>Ted Field</td>\n",
       "    </tr>\n",
       "    <tr>\n",
       "      <th>9</th>\n",
       "      <td>8844</td>\n",
       "      <td>Jonathan Hyde</td>\n",
       "      <td>hombre</td>\n",
       "      <td>2</td>\n",
       "      <td>Joe Johnston</td>\n",
       "      <td>Robert W. Cort</td>\n",
       "    </tr>\n",
       "  </tbody>\n",
       "</table>\n",
       "</div>"
      ],
      "text/plain": [
       "   pelicula_id    prtgnst_name prtgnst_gender_strng  prtgnst_nivel  \\\n",
       "0          862       Tom Hanks               hombre              1   \n",
       "1          862       Tom Hanks               hombre              1   \n",
       "2          862       Tim Allen               hombre              2   \n",
       "3          862       Tim Allen               hombre              2   \n",
       "4         8844  Robin Williams               hombre              1   \n",
       "5         8844  Robin Williams               hombre              1   \n",
       "6         8844  Robin Williams               hombre              1   \n",
       "7         8844   Jonathan Hyde               hombre              2   \n",
       "8         8844   Jonathan Hyde               hombre              2   \n",
       "9         8844   Jonathan Hyde               hombre              2   \n",
       "\n",
       "        director executive_producer  \n",
       "0  John Lasseter         Ed Catmull  \n",
       "1  John Lasseter         Steve Jobs  \n",
       "2  John Lasseter         Ed Catmull  \n",
       "3  John Lasseter         Steve Jobs  \n",
       "4   Joe Johnston    Larry J. Franco  \n",
       "5   Joe Johnston          Ted Field  \n",
       "6   Joe Johnston     Robert W. Cort  \n",
       "7   Joe Johnston    Larry J. Franco  \n",
       "8   Joe Johnston          Ted Field  \n",
       "9   Joe Johnston     Robert W. Cort  "
      ]
     },
     "execution_count": 5,
     "metadata": {},
     "output_type": "execute_result"
    }
   ],
   "source": [
    "data_credits_normalizada.info(verbose=True)\n",
    "data_credits_normalizada.head(10)"
   ]
  },
  {
   "cell_type": "markdown",
   "metadata": {},
   "source": [
    "## Analisis de disponibilidad de datos\n",
    "\n",
    "\n",
    "En esta seccion examinamos la disponibilidad de datos para nuestro universo de casos: peliculas. Conocer la disponibilidad de datos es indispensable por dos razones:\n",
    "\n",
    "1. Determina la naturaleza de los joins: Un paso previo a la union de dfs es determinar cual de los dfs contiene la mayor cantidad de informacion disponible para nuestro universo de casos: peliculas. Esto determina la naturaleza del join; es decir, si hacemos un inner o un left join. En caso que un df contenga informacion sobre un mayor numero de casos que el otro, hacemos un left join con el fin garantizar el mayor numero de registros posible.\n",
    "\n",
    "2. Afecta el desempeño de las consultas: diferencias en las disponibilidad de informacion puede afectar el desempeno de unas consultas con respecto a otras; es decir, mientras que algunas consultas pueden gozar de una gran disponibilidad de informacion, otras pueden verse seriamente afectadas por informacion limitada. Conocer esta ventajas y limitaciones nos permite anticipar futuros problemas en el desempeno de las consultas."
   ]
  },
  {
   "cell_type": "markdown",
   "metadata": {},
   "source": [
    "### Descripcion de disponibilidad de informacion"
   ]
  },
  {
   "cell_type": "code",
   "execution_count": 6,
   "metadata": {},
   "outputs": [
    {
     "name": "stdout",
     "output_type": "stream",
     "text": [
      "Universo de pelicula unicas, segun df de referencia: 45346\n",
      "Universo de pelicula unicas, segun movies_normalizada: 4487\n",
      "Universo de pelicula unicas, segun credits_normalizada: 42317\n",
      "Porcentaje de valores nulos en columnas de movies_normalizada del total de registros (df referencia): 90.1 %\n",
      "Porcentaje de valores nulos en columnas de credits_normalizada del total de registros (df referencia): 6.68 %\n"
     ]
    }
   ],
   "source": [
    "# evaluamos cual df contiene informacion para el mayor numero de casos.\n",
    "movies_subset_peliculas=data_movies_subset['pelicula_id'].nunique()\n",
    "movies_normalizada_peliculas=data_movies_normalizada['pelicula_id'].nunique()\n",
    "credits_normalizada_peliculas=data_credits_normalizada['pelicula_id'].nunique()\n",
    "print(\"Universo de pelicula unicas, segun df de referencia:\",movies_subset_peliculas)\n",
    "print(\"Universo de pelicula unicas, segun movies_normalizada:\",movies_normalizada_peliculas)\n",
    "print(\"Universo de pelicula unicas, segun credits_normalizada:\",credits_normalizada_peliculas)\n",
    "print(\"Porcentaje de valores nulos en columnas de movies_normalizada del total de registros (df referencia):\",\n",
    "    round((1-(movies_normalizada_peliculas/movies_subset_peliculas))*100,2),\"%\")\n",
    "print(\"Porcentaje de valores nulos en columnas de credits_normalizada del total de registros (df referencia):\",\n",
    "    round((1-(credits_normalizada_peliculas/movies_subset_peliculas))*100,2),\"%\")"
   ]
  },
  {
   "cell_type": "markdown",
   "metadata": {},
   "source": [
    "Con base en lo anterior, la base de datos final tendria la siguientes caracteristicas:\n",
    "Todos las peliculas tendria valores nulos en alguna columna.\n",
    "Las columnas con mayor numero de valores nulos serian las columnas que corresponden al df `data_movies_normalizada`."
   ]
  },
  {
   "cell_type": "markdown",
   "metadata": {},
   "source": [
    "### Implicaciones de disponibilidad de datos para las consultas\n",
    "\n",
    "Las funciones que mas se afectarian por esta baja disponibilidad de datos seria las siguientes consultas:\n",
    "\n",
    "- CUALES?????\n",
    "\n",
    "Lo anterior debe orientar nuestro diseno del modelo de ML. Un modelo que haga uso de las columnas que corresponden a data_movies_normalizada (i.e., franquicia, productora, el genero de la pelicula (genres), e idiomas hablados (spoken_languages_name)), estaria desaprovechando la disponbilidad de datos, puesto que solo tendria informacion para el ~10% de universo de casos en nuestra base de dato final.\n",
    "\n",
    "Por tal motivo, lo mejor seria hacer uso la informacion contenida en data_movies_subset y en data_credits_normalizada al diseñar el modelo de ML."
   ]
  },
  {
   "cell_type": "markdown",
   "metadata": {},
   "source": [
    "## Generacion de dfs para alimentar las consultas"
   ]
  },
  {
   "cell_type": "code",
   "execution_count": 7,
   "metadata": {},
   "outputs": [
    {
     "name": "stdout",
     "output_type": "stream",
     "text": [
      "<class 'pandas.core.frame.DataFrame'>\n",
      "RangeIndex: 310040 entries, 0 to 310039\n",
      "Data columns (total 28 columns):\n",
      " #   Column                    Non-Null Count   Dtype  \n",
      "---  ------                    --------------   -----  \n",
      " 0   budget                    310040 non-null  Int64  \n",
      " 1   pelicula_id               310040 non-null  Int64  \n",
      " 2   original_language         310024 non-null  string \n",
      " 3   overview                  308284 non-null  string \n",
      " 4   popularity                310040 non-null  Float64\n",
      " 5   release_date              310040 non-null  string \n",
      " 6   revenue                   310040 non-null  Int64  \n",
      " 7   runtime                   309672 non-null  Int64  \n",
      " 8   title                     310040 non-null  string \n",
      " 9   vote_average              310040 non-null  Float64\n",
      " 10  vote_count                310040 non-null  Int64  \n",
      " 11  release_year              310040 non-null  Int64  \n",
      " 12  return                    310040 non-null  Float64\n",
      " 13  franquicia_id             214036 non-null  Int64  \n",
      " 14  franquicia                214036 non-null  string \n",
      " 15  productora                205197 non-null  string \n",
      " 16  productora_id             205197 non-null  Int64  \n",
      " 17  genres_id                 213763 non-null  Int64  \n",
      " 18  genres                    213763 non-null  string \n",
      " 19  pais_isocode              212644 non-null  string \n",
      " 20  pais_name                 212644 non-null  string \n",
      " 21  spoken_languages_isocode  213613 non-null  string \n",
      " 22  spoken_languages_name     211961 non-null  string \n",
      " 23  prtgnst_name              306662 non-null  string \n",
      " 24  prtgnst_gender_strng      306662 non-null  string \n",
      " 25  prtgnst_nivel             306662 non-null  Int64  \n",
      " 26  director                  306597 non-null  string \n",
      " 27  executive_producer        167540 non-null  string \n",
      "dtypes: Float64(3), Int64(10), string(15)\n",
      "memory usage: 70.1 MB\n"
     ]
    }
   ],
   "source": [
    "# exportamos el df final\n",
    "data_mvp_final_normalizada = pd.merge(\n",
    "    pd.merge(data_movies_subset, # tomamos como principal referencia el df con el mayor numero de registros\n",
    "    data_movies_normalizada,\n",
    "    how='left',\n",
    "    on=['pelicula_id']),\n",
    "    data_credits_normalizada, # tomamos como ultima referencia el df con el menor numero de registros\n",
    "    how='left',\n",
    "    on=['pelicula_id'])\n",
    "data_mvp_final_normalizada.info()"
   ]
  },
  {
   "cell_type": "markdown",
   "metadata": {},
   "source": [
    "Separamos el df final en dos subconjuntos:\n",
    "1. df para alimentar las funciones\n",
    "2. df para alimentar el modelo ml y el sistema de recomendacion."
   ]
  },
  {
   "cell_type": "code",
   "execution_count": 8,
   "metadata": {},
   "outputs": [],
   "source": [
    "# primer subconjunto: df para alimentar las funciones\n",
    "columns_funciones=[\n",
    "    'pelicula_id', # todas\n",
    "    'title', # varias\n",
    "    'original_language', # def peliculas_idioma( Idioma: str )\n",
    "    'runtime', # def peliculas_duracion( Pelicula: str )\n",
    "    'release_date', # def peliculas_duracion( Pelicula: str )\n",
    "    'franquicia', # def franquicia( Franquicia: str )\n",
    "    'budget', # def franquicia( Franquicia: str )\n",
    "    'revenue', # def franquicia( Franquicia: str )\n",
    "    'pais_name', # def peliculas_pais( Pais: str )\n",
    "    'productora', # productoras_exitosas( Productora: str ),\n",
    "    'director', # get_director( nombre_director )\n",
    "    'return', # get_director( nombre_director )\n",
    "    'release_year' # get_director( nombre_director )\n",
    "    ]"
   ]
  },
  {
   "cell_type": "code",
   "execution_count": 9,
   "metadata": {},
   "outputs": [
    {
     "name": "stdout",
     "output_type": "stream",
     "text": [
      "Universo de peliculas unicas en el df que alimenta las funciones: 45346\n",
      "<class 'pandas.core.frame.DataFrame'>\n",
      "Index: 59545 entries, 0 to 310039\n",
      "Data columns (total 13 columns):\n",
      " #   Column             Non-Null Count  Dtype  \n",
      "---  ------             --------------  -----  \n",
      " 0   pelicula_id        59545 non-null  Int64  \n",
      " 1   title              59545 non-null  string \n",
      " 2   original_language  59531 non-null  string \n",
      " 3   runtime            59283 non-null  Int64  \n",
      " 4   release_date       59545 non-null  string \n",
      " 5   franquicia         15315 non-null  string \n",
      " 6   budget             59545 non-null  Int64  \n",
      " 7   revenue            59545 non-null  Int64  \n",
      " 8   pais_name          15020 non-null  string \n",
      " 9   productora         14581 non-null  string \n",
      " 10  director           56423 non-null  string \n",
      " 11  return             59545 non-null  Float64\n",
      " 12  release_year       59545 non-null  Int64  \n",
      "dtypes: Float64(1), Int64(5), string(7)\n",
      "memory usage: 6.7 MB\n"
     ]
    }
   ],
   "source": [
    "data_mvp_funciones=data_mvp_final_normalizada.loc[:,columns_funciones].drop_duplicates()\n",
    "print(\"Universo de peliculas unicas en el df que alimenta las funciones:\",\n",
    "      data_mvp_funciones['pelicula_id'].nunique())\n",
    "data_mvp_funciones.to_csv(os.path.join(\"3_output\",\"data_mvp_final_funciones.csv\"))\n",
    "data_mvp_funciones.info()"
   ]
  },
  {
   "cell_type": "code",
   "execution_count": 10,
   "metadata": {},
   "outputs": [],
   "source": [
    "# segundo subconjunto: df para alimentar el modelo de ML\n",
    "columns_ml=[\n",
    "    'pelicula_id', # todas\n",
    "    # CUALEES?\n",
    "    ]"
   ]
  },
  {
   "cell_type": "code",
   "execution_count": 11,
   "metadata": {},
   "outputs": [],
   "source": [
    "# df final para modelo ml\n",
    "data_mvp_ml=data_mvp_final_normalizada.loc[:,columns_ml].drop_duplicates()\n",
    "print(\"Universo de peliculas unicas en el df que alimenta el modelo ml:\",\n",
    "      data_mvp_funciones['pelicula_id'].nunique())\n",
    "#data_mvp_funciones.to_csv(os.path.join(\"3_output\",\"data_mvp_final_ml.csv\"))\n",
    "#data_mvp_funciones.info()"
   ]
  }
 ],
 "metadata": {
  "kernelspec": {
   "display_name": "pandas_scikit",
   "language": "python",
   "name": "python3"
  },
  "language_info": {
   "codemirror_mode": {
    "name": "ipython",
    "version": 3
   },
   "file_extension": ".py",
   "mimetype": "text/x-python",
   "name": "python",
   "nbconvert_exporter": "python",
   "pygments_lexer": "ipython3",
   "version": "3.10.12"
  },
  "orig_nbformat": 4
 },
 "nbformat": 4,
 "nbformat_minor": 2
}
