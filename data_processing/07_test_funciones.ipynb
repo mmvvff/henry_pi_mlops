{
 "cells": [
  {
   "cell_type": "markdown",
   "metadata": {},
   "source": [
    "# Prueba de consultas\n",
    "\n",
    "En esta seccion probamos las consultas"
   ]
  },
  {
   "cell_type": "code",
   "execution_count": 1,
   "metadata": {},
   "outputs": [
    {
     "name": "stdout",
     "output_type": "stream",
     "text": [
      "<class 'pandas.core.frame.DataFrame'>\n",
      "Index: 59545 entries, 0 to 310039\n",
      "Data columns (total 13 columns):\n",
      " #   Column             Non-Null Count  Dtype  \n",
      "---  ------             --------------  -----  \n",
      " 0   pelicula_id        59545 non-null  Int64  \n",
      " 1   title              59545 non-null  string \n",
      " 2   original_language  59531 non-null  string \n",
      " 3   runtime            59283 non-null  Int64  \n",
      " 4   release_date       59545 non-null  string \n",
      " 5   franquicia         15315 non-null  string \n",
      " 6   budget             59545 non-null  Int64  \n",
      " 7   revenue            59545 non-null  Int64  \n",
      " 8   pais_name          15020 non-null  string \n",
      " 9   productora         14581 non-null  string \n",
      " 10  director           56423 non-null  string \n",
      " 11  return             59545 non-null  Float64\n",
      " 12  release_year       59545 non-null  Int64  \n",
      "dtypes: Float64(1), Int64(5), string(7)\n",
      "memory usage: 6.7 MB\n"
     ]
    },
    {
     "data": {
      "text/html": [
       "<div>\n",
       "<style scoped>\n",
       "    .dataframe tbody tr th:only-of-type {\n",
       "        vertical-align: middle;\n",
       "    }\n",
       "\n",
       "    .dataframe tbody tr th {\n",
       "        vertical-align: top;\n",
       "    }\n",
       "\n",
       "    .dataframe thead th {\n",
       "        text-align: right;\n",
       "    }\n",
       "</style>\n",
       "<table border=\"1\" class=\"dataframe\">\n",
       "  <thead>\n",
       "    <tr style=\"text-align: right;\">\n",
       "      <th></th>\n",
       "      <th>pelicula_id</th>\n",
       "      <th>title</th>\n",
       "      <th>original_language</th>\n",
       "      <th>runtime</th>\n",
       "      <th>release_date</th>\n",
       "      <th>franquicia</th>\n",
       "      <th>budget</th>\n",
       "      <th>revenue</th>\n",
       "      <th>pais_name</th>\n",
       "      <th>productora</th>\n",
       "      <th>director</th>\n",
       "      <th>return</th>\n",
       "      <th>release_year</th>\n",
       "    </tr>\n",
       "  </thead>\n",
       "  <tbody>\n",
       "    <tr>\n",
       "      <th>0</th>\n",
       "      <td>862</td>\n",
       "      <td>Toy Story</td>\n",
       "      <td>en</td>\n",
       "      <td>81</td>\n",
       "      <td>1995-10-30</td>\n",
       "      <td>Toy Story Collection</td>\n",
       "      <td>30000000</td>\n",
       "      <td>373554033</td>\n",
       "      <td>United States of America</td>\n",
       "      <td>Pixar Animation Studios</td>\n",
       "      <td>John Lasseter</td>\n",
       "      <td>12.451801</td>\n",
       "      <td>1995</td>\n",
       "    </tr>\n",
       "    <tr>\n",
       "      <th>12</th>\n",
       "      <td>8844</td>\n",
       "      <td>Jumanji</td>\n",
       "      <td>en</td>\n",
       "      <td>104</td>\n",
       "      <td>1995-12-15</td>\n",
       "      <td>&lt;NA&gt;</td>\n",
       "      <td>65000000</td>\n",
       "      <td>262797249</td>\n",
       "      <td>&lt;NA&gt;</td>\n",
       "      <td>&lt;NA&gt;</td>\n",
       "      <td>Joe Johnston</td>\n",
       "      <td>4.043035</td>\n",
       "      <td>1995</td>\n",
       "    </tr>\n",
       "  </tbody>\n",
       "</table>\n",
       "</div>"
      ],
      "text/plain": [
       "    pelicula_id      title original_language  runtime release_date  \\\n",
       "0           862  Toy Story                en       81   1995-10-30   \n",
       "12         8844    Jumanji                en      104   1995-12-15   \n",
       "\n",
       "              franquicia    budget    revenue                 pais_name  \\\n",
       "0   Toy Story Collection  30000000  373554033  United States of America   \n",
       "12                  <NA>  65000000  262797249                      <NA>   \n",
       "\n",
       "                 productora       director     return  release_year  \n",
       "0   Pixar Animation Studios  John Lasseter  12.451801          1995  \n",
       "12                     <NA>   Joe Johnston   4.043035          1995  "
      ]
     },
     "execution_count": 1,
     "metadata": {},
     "output_type": "execute_result"
    }
   ],
   "source": [
    "import os\n",
    "import pandas as pd\n",
    "import numpy as np\n",
    "data_mvp_funciones = pd.read_csv(os.path.join('3_output','data_mvp_final_funciones.csv'),index_col=0).convert_dtypes()\n",
    "data_mvp_funciones.info()\n",
    "data_mvp_funciones.head(2)"
   ]
  },
  {
   "cell_type": "markdown",
   "metadata": {},
   "source": [
    "Instruccion:\n",
    "\n",
    "def peliculas_idioma( Idioma: str ): Se ingresa un idioma (como están escritos en el dataset, no hay que traducirlos!). Debe devolver la cantidad de películas producidas en ese idioma.\n",
    "\n",
    "Ejemplo de retorno: X cantidad de películas fueron estrenadas en idioma"
   ]
  },
  {
   "cell_type": "code",
   "execution_count": 2,
   "metadata": {},
   "outputs": [
    {
     "name": "stdout",
     "output_type": "stream",
     "text": [
      "32184 cantidad de peliculas fueron estrenadas en idioma: en\n"
     ]
    }
   ],
   "source": [
    "# definimos\n",
    "def pelicula_idioma(idioma: str):\n",
    "    idioma_str = str(idioma)\n",
    "    #cantidad = data_mvp_funciones['original_language'].value_counts()[original_language] # alfonzo: numero de registros\n",
    "    cantidad = data_mvp_funciones['pelicula_id'].loc[\n",
    "        data_mvp_funciones['original_language'].isin([idioma_str])].nunique() # manuel: valores unicos peliculas\n",
    "    return print(cantidad,'cantidad de peliculas fueron estrenadas en idioma:',idioma)\n",
    "\n",
    "# test\n",
    "pelicula_idioma('en')"
   ]
  },
  {
   "cell_type": "markdown",
   "metadata": {},
   "source": [
    "Instruccion\n",
    "\n",
    "def peliculas_duracion( Pelicula: str ): Se ingresa una pelicula. Debe devolver la duracion y el año.\n",
    "\n",
    "Ejemplo de retorno: X . Duración: x. Año: xx"
   ]
  },
  {
   "cell_type": "code",
   "execution_count": 3,
   "metadata": {},
   "outputs": [
    {
     "name": "stdout",
     "output_type": "stream",
     "text": [
      "Toy Story. Duracion: 81 min; Año: 1995\n"
     ]
    }
   ],
   "source": [
    "def pelicula_duracion(pelicula: str): # otros estudiantes lo hace asi\n",
    "    pelicula_title = str(pelicula) # yo lo hago asi: redundante?\n",
    "    duracion = data_mvp_funciones.loc[data_mvp_funciones['title'] == pelicula_title, 'runtime'].iloc[0]\n",
    "    release_year = data_mvp_funciones.loc[data_mvp_funciones['title'] == pelicula_title, 'release_year'].iloc[0]\n",
    "                              \n",
    "    return print(pelicula_title+'. Duracion:',round(duracion),'min; Año:',release_year)\n",
    "\n",
    "# test\n",
    "pelicula_duracion('Toy Story')"
   ]
  },
  {
   "cell_type": "markdown",
   "metadata": {},
   "source": [
    "Instruccion:\n",
    "\n",
    "def franquicia( Franquicia: str ): Se ingresa la franquicia, retornando la cantidad de peliculas, ganancia total y promedio\n",
    "\n",
    "Ejemplo de retorno: La franquicia X posee X peliculas, una ganancia total de x y una ganancia promedio de xx"
   ]
  },
  {
   "cell_type": "code",
   "execution_count": 4,
   "metadata": {},
   "outputs": [
    {
     "name": "stdout",
     "output_type": "stream",
     "text": [
      "La franquicia Toy Story Collection posee 3 peliculas,\n",
      "una ganancia total de USD$3,004,860,308,\n",
      "y una ganancia promedio de USD$751,215,077 por pelicula.\n"
     ]
    }
   ],
   "source": [
    "def franquicia(franquicia: str):\n",
    "    franquicia_str=str(franquicia)\n",
    "    franquicia_subset = data_mvp_funciones.loc[\n",
    "        data_mvp_funciones['franquicia'].isin([franquicia_str])]\n",
    "    cantidad = franquicia_subset['pelicula_id'].nunique()\n",
    "    ganancia = franquicia_subset['revenue'].sum()\n",
    "    ganancia_res = ('{:,}'.format(round(ganancia)))\n",
    "    promedio = franquicia_subset['revenue'].mean()\n",
    "    promedio_res = ('{:,}'.format(round(promedio)))\n",
    "    return print('La franquicia',franquicia_str,'posee',cantidad,'peliculas'+\n",
    "                 ',\\nuna ganancia total de','USD$'+ganancia_res+\n",
    "                 ',\\ny una ganancia promedio de','USD$'+promedio_res,'por pelicula.'\n",
    "                 )\n",
    "\n",
    "# test\n",
    "franquicia('Toy Story Collection')"
   ]
  },
  {
   "cell_type": "markdown",
   "metadata": {},
   "source": [
    "Instruccion:\n",
    "\n",
    "def peliculas_pais( Pais: str ): Se ingresa un país (como están escritos en el dataset, no hay que traducirlos!), retornando la cantidad de peliculas producidas en el mismo.\n",
    "\n",
    "Ejemplo de retorno: Se produjeron X películas en el país X"
   ]
  },
  {
   "cell_type": "code",
   "execution_count": 8,
   "metadata": {},
   "outputs": [
    {
     "name": "stdout",
     "output_type": "stream",
     "text": [
      "Se produjeron 2570 peliculas en United States of America\n"
     ]
    }
   ],
   "source": [
    "def pelicula_pais(pais: str):\n",
    "    pais_str = str(pais)\n",
    "    #cantidad = data_mvp_funciones['pais_name'].value_counts()[pais] # alfonzo: numero de registros\n",
    "    cantidad = data_mvp_funciones['pelicula_id'].loc[\n",
    "       data_mvp_funciones['pais_name'].isin([pais_str])].nunique() # manuel: valores unicos peliculas\n",
    "    return print('Se produjeron', cantidad, 'peliculas en', pais)\n",
    "\n",
    "# test\n",
    "pelicula_pais('United States of America')"
   ]
  },
  {
   "cell_type": "markdown",
   "metadata": {},
   "source": [
    "Instruccion:\n",
    "\n",
    "def productoras_exitosas( Productora: str ): Se ingresa la productora, entregandote el revunue total y la cantidad de peliculas que realizo.\n",
    "\n",
    "Ejemplo de retorno: La productora X ha tenido un revenue de x"
   ]
  },
  {
   "cell_type": "code",
   "execution_count": 6,
   "metadata": {},
   "outputs": [
    {
     "name": "stdout",
     "output_type": "stream",
     "text": [
      "La productora Pixar Animation Studios ha tenido un revenue total de USD$9,267,027,021,\n",
      "y realizo un total de 12 peliculas.\n"
     ]
    }
   ],
   "source": [
    "def productora_exitosa(productora: str):\n",
    "    #revenue = data_mvp_funciones.loc[data_mvp_funciones['productora'] == productora, 'revenue'].sum() # alfonzo\n",
    "    productora_subset = data_mvp_funciones.loc[\n",
    "        data_mvp_funciones['productora'].isin([productora])]\n",
    "    revenue = productora_subset['revenue'].sum()\n",
    "    revenue_res = ('{:,}'.format(round(revenue)))\n",
    "    cantidad = productora_subset['pelicula_id'].nunique()\n",
    "    \n",
    "    return print(\n",
    "        'La productora',productora,'ha tenido un revenue total de USD$'+revenue_res+','\n",
    "        '\\ny realizo un total de',cantidad,'peliculas.'\n",
    "        )\n",
    "\n",
    "# test\n",
    "productora_exitosa('Pixar Animation Studios')"
   ]
  },
  {
   "cell_type": "markdown",
   "metadata": {},
   "source": [
    "Instruccion\n",
    "\n",
    "def get_director( nombre_director ): Se ingresa el nombre de un director que se encuentre dentro de un dataset debiendo devolver el éxito del mismo medido a través del retorno. Además, deberá devolver el nombre de cada película con la fecha de lanzamiento, retorno individual, costo y ganancia de la misma, en formato lista."
   ]
  },
  {
   "cell_type": "code",
   "execution_count": null,
   "metadata": {},
   "outputs": [],
   "source": []
  }
 ],
 "metadata": {
  "kernelspec": {
   "display_name": "pandas_scikit",
   "language": "python",
   "name": "python3"
  },
  "language_info": {
   "codemirror_mode": {
    "name": "ipython",
    "version": 3
   },
   "file_extension": ".py",
   "mimetype": "text/x-python",
   "name": "python",
   "nbconvert_exporter": "python",
   "pygments_lexer": "ipython3",
   "version": "3.10.12"
  },
  "orig_nbformat": 4
 },
 "nbformat": 4,
 "nbformat_minor": 2
}
