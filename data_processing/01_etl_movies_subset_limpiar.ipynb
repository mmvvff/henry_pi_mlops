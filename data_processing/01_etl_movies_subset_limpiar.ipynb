{
 "cells": [
  {
   "cell_type": "markdown",
   "metadata": {},
   "source": [
    "# ELT - Fase 1: Limpieza de datos segun requerimientos minimos de Henry\n",
    "\n",
    "En esta seccion, limpiamos el dataset movies_dataset.csv segun los requerimientos minimos de Henry; son 6 instrucciones en total:\n",
    "1. Eliminar las columnas que no serán utilizadas, video,imdb_id,adult,original_title,poster_path y homepage.\n",
    "2. De haber fechas, deberán tener el formato AAAA-mm-dd\n",
    "3. Los valores nulos del campo release date deben eliminarse\n",
    "4. Deberán crear la columna release_year donde extraerán el año de la fecha de estreno.\n",
    "5. Los valores nulos de los campos revenue, budget deben ser rellenados por el número 0\n",
    "6. Crear la columna con el retorno de inversión, llamada return con los campos revenue y budget, dividiendo estas dos últimas revenue / budget, cuando no hay datos disponibles para calcularlo, deberá tomar el valor 0"
   ]
  },
  {
   "cell_type": "code",
   "execution_count": 1,
   "metadata": {},
   "outputs": [],
   "source": [
    "# requisitos\n",
    "import os\n",
    "import pandas as pd\n",
    "import numpy as np\n",
    "\n",
    "data_movies = pd.read_csv(os.path.join('1_data','movies_dataset.zip'),compression='zip',low_memory=False).convert_dtypes()\n",
    "data_movies.rename(columns = {'id':'pelicula_id'}, inplace = True) # definimos nuestro primary key"
   ]
  },
  {
   "cell_type": "markdown",
   "metadata": {},
   "source": [
    "## Instruccion 1\n",
    "\n",
    "Eliminar las columnas que no serán utilizadas: video, imdb_id, adult, original_title, poster_path y homepage."
   ]
  },
  {
   "cell_type": "code",
   "execution_count": 2,
   "metadata": {},
   "outputs": [
    {
     "name": "stdout",
     "output_type": "stream",
     "text": [
      "<class 'pandas.core.frame.DataFrame'>\n",
      "RangeIndex: 45466 entries, 0 to 45465\n",
      "Data columns (total 11 columns):\n",
      " #   Column             Non-Null Count  Dtype  \n",
      "---  ------             --------------  -----  \n",
      " 0   budget             45466 non-null  string \n",
      " 1   pelicula_id        45466 non-null  string \n",
      " 2   original_language  45455 non-null  string \n",
      " 3   overview           44512 non-null  string \n",
      " 4   popularity         45461 non-null  string \n",
      " 5   release_date       45379 non-null  string \n",
      " 6   revenue            45460 non-null  Int64  \n",
      " 7   runtime            45203 non-null  Int64  \n",
      " 8   title              45460 non-null  string \n",
      " 9   vote_average       45460 non-null  Float64\n",
      " 10  vote_count         45460 non-null  Int64  \n",
      "dtypes: Float64(1), Int64(3), string(7)\n",
      "memory usage: 4.0 MB\n"
     ]
    },
    {
     "data": {
      "text/html": [
       "<div>\n",
       "<style scoped>\n",
       "    .dataframe tbody tr th:only-of-type {\n",
       "        vertical-align: middle;\n",
       "    }\n",
       "\n",
       "    .dataframe tbody tr th {\n",
       "        vertical-align: top;\n",
       "    }\n",
       "\n",
       "    .dataframe thead th {\n",
       "        text-align: right;\n",
       "    }\n",
       "</style>\n",
       "<table border=\"1\" class=\"dataframe\">\n",
       "  <thead>\n",
       "    <tr style=\"text-align: right;\">\n",
       "      <th></th>\n",
       "      <th>budget</th>\n",
       "      <th>pelicula_id</th>\n",
       "      <th>original_language</th>\n",
       "      <th>overview</th>\n",
       "      <th>popularity</th>\n",
       "      <th>release_date</th>\n",
       "      <th>revenue</th>\n",
       "      <th>runtime</th>\n",
       "      <th>title</th>\n",
       "      <th>vote_average</th>\n",
       "      <th>vote_count</th>\n",
       "    </tr>\n",
       "  </thead>\n",
       "  <tbody>\n",
       "    <tr>\n",
       "      <th>0</th>\n",
       "      <td>30000000</td>\n",
       "      <td>862</td>\n",
       "      <td>en</td>\n",
       "      <td>Led by Woody, Andy's toys live happily in his ...</td>\n",
       "      <td>21.946943</td>\n",
       "      <td>1995-10-30</td>\n",
       "      <td>373554033</td>\n",
       "      <td>81</td>\n",
       "      <td>Toy Story</td>\n",
       "      <td>7.7</td>\n",
       "      <td>5415</td>\n",
       "    </tr>\n",
       "    <tr>\n",
       "      <th>1</th>\n",
       "      <td>65000000</td>\n",
       "      <td>8844</td>\n",
       "      <td>en</td>\n",
       "      <td>When siblings Judy and Peter discover an encha...</td>\n",
       "      <td>17.015539</td>\n",
       "      <td>1995-12-15</td>\n",
       "      <td>262797249</td>\n",
       "      <td>104</td>\n",
       "      <td>Jumanji</td>\n",
       "      <td>6.9</td>\n",
       "      <td>2413</td>\n",
       "    </tr>\n",
       "  </tbody>\n",
       "</table>\n",
       "</div>"
      ],
      "text/plain": [
       "     budget pelicula_id original_language  \\\n",
       "0  30000000         862                en   \n",
       "1  65000000        8844                en   \n",
       "\n",
       "                                            overview popularity release_date  \\\n",
       "0  Led by Woody, Andy's toys live happily in his ...  21.946943   1995-10-30   \n",
       "1  When siblings Judy and Peter discover an encha...  17.015539   1995-12-15   \n",
       "\n",
       "     revenue  runtime      title  vote_average  vote_count  \n",
       "0  373554033       81  Toy Story           7.7        5415  \n",
       "1  262797249      104    Jumanji           6.9        2413  "
      ]
     },
     "execution_count": 2,
     "metadata": {},
     "output_type": "execute_result"
    }
   ],
   "source": [
    "columns_excluidas_henry=[ # Instruccion: Eliminar las columnas que no serán utilizadas, video,imdb_id,adult,original_title,poster_path y homepage\n",
    "    'video',\n",
    "    'imdb_id',\n",
    "    'adult',\n",
    "    'original_title',\n",
    "    'poster_path',\n",
    "    'homepage']\n",
    "columns_excluidas_crtrprsnl=['status','tagline'] # criterio personal: no relevantes para modelo ML\n",
    "columns_desanidar=[\n",
    "    'belongs_to_collection',\n",
    "    'genres',\n",
    "    'production_companies',\n",
    "    'production_countries',\n",
    "    'spoken_languages']\n",
    "data_movies_subset=data_movies.drop(list(columns_excluidas_henry+columns_excluidas_crtrprsnl+columns_desanidar), axis=1)\n",
    "data_movies_subset.info()\n",
    "data_movies_subset.head(2)"
   ]
  },
  {
   "cell_type": "markdown",
   "metadata": {},
   "source": [
    "Esperamos que las siguientes columnas sean numericas: pelicula_id\n",
    "pero no lo es."
   ]
  },
  {
   "cell_type": "code",
   "execution_count": 4,
   "metadata": {},
   "outputs": [
    {
     "data": {
      "text/plain": [
       "'1997-08-20'"
      ]
     },
     "execution_count": 4,
     "metadata": {},
     "output_type": "execute_result"
    }
   ],
   "source": [
    "#data_movies_subset['pelicula_id']=pd.to_numeric(data_movies_subset['pelicula_id']) # ValueError: Unable to parse string \"1997-08-20\" at position 19730\n",
    "# inspeccionamos visualmente el error arojado en la posicion 19730 de pelicula_id\n",
    "data_movies_subset.iloc[19730]['pelicula_id'] # algunas filas puede contener valores que no corresponden al valor esperado"
   ]
  },
  {
   "cell_type": "code",
   "execution_count": 7,
   "metadata": {},
   "outputs": [
    {
     "data": {
      "text/html": [
       "<div>\n",
       "<style scoped>\n",
       "    .dataframe tbody tr th:only-of-type {\n",
       "        vertical-align: middle;\n",
       "    }\n",
       "\n",
       "    .dataframe tbody tr th {\n",
       "        vertical-align: top;\n",
       "    }\n",
       "\n",
       "    .dataframe thead th {\n",
       "        text-align: right;\n",
       "    }\n",
       "</style>\n",
       "<table border=\"1\" class=\"dataframe\">\n",
       "  <thead>\n",
       "    <tr style=\"text-align: right;\">\n",
       "      <th></th>\n",
       "      <th>budget</th>\n",
       "      <th>pelicula_id</th>\n",
       "      <th>original_language</th>\n",
       "      <th>overview</th>\n",
       "      <th>popularity</th>\n",
       "      <th>release_date</th>\n",
       "      <th>revenue</th>\n",
       "      <th>runtime</th>\n",
       "      <th>title</th>\n",
       "      <th>vote_average</th>\n",
       "      <th>vote_count</th>\n",
       "    </tr>\n",
       "  </thead>\n",
       "  <tbody>\n",
       "    <tr>\n",
       "      <th>19730</th>\n",
       "      <td>/ff9qCepilowshEtG2GYWwzt2bs4.jpg</td>\n",
       "      <td>1997-08-20</td>\n",
       "      <td>104.0</td>\n",
       "      <td>Released</td>\n",
       "      <td>&lt;NA&gt;</td>\n",
       "      <td>1</td>\n",
       "      <td>&lt;NA&gt;</td>\n",
       "      <td>&lt;NA&gt;</td>\n",
       "      <td>&lt;NA&gt;</td>\n",
       "      <td>&lt;NA&gt;</td>\n",
       "      <td>&lt;NA&gt;</td>\n",
       "    </tr>\n",
       "    <tr>\n",
       "      <th>29503</th>\n",
       "      <td>/zV8bHuSL6WXoD6FWogP9j4x80bL.jpg</td>\n",
       "      <td>2012-09-29</td>\n",
       "      <td>68.0</td>\n",
       "      <td>Released</td>\n",
       "      <td>&lt;NA&gt;</td>\n",
       "      <td>12</td>\n",
       "      <td>&lt;NA&gt;</td>\n",
       "      <td>&lt;NA&gt;</td>\n",
       "      <td>&lt;NA&gt;</td>\n",
       "      <td>&lt;NA&gt;</td>\n",
       "      <td>&lt;NA&gt;</td>\n",
       "    </tr>\n",
       "    <tr>\n",
       "      <th>35587</th>\n",
       "      <td>/zaSf5OG7V8X8gqFvly88zDdRm46.jpg</td>\n",
       "      <td>2014-01-01</td>\n",
       "      <td>82.0</td>\n",
       "      <td>Released</td>\n",
       "      <td>Beware Of Frost Bites</td>\n",
       "      <td>22</td>\n",
       "      <td>&lt;NA&gt;</td>\n",
       "      <td>&lt;NA&gt;</td>\n",
       "      <td>&lt;NA&gt;</td>\n",
       "      <td>&lt;NA&gt;</td>\n",
       "      <td>&lt;NA&gt;</td>\n",
       "    </tr>\n",
       "  </tbody>\n",
       "</table>\n",
       "</div>"
      ],
      "text/plain": [
       "                                 budget pelicula_id original_language  \\\n",
       "19730  /ff9qCepilowshEtG2GYWwzt2bs4.jpg  1997-08-20             104.0   \n",
       "29503  /zV8bHuSL6WXoD6FWogP9j4x80bL.jpg  2012-09-29              68.0   \n",
       "35587  /zaSf5OG7V8X8gqFvly88zDdRm46.jpg  2014-01-01              82.0   \n",
       "\n",
       "       overview             popularity release_date  revenue  runtime title  \\\n",
       "19730  Released                   <NA>            1     <NA>     <NA>  <NA>   \n",
       "29503  Released                   <NA>           12     <NA>     <NA>  <NA>   \n",
       "35587  Released  Beware Of Frost Bites           22     <NA>     <NA>  <NA>   \n",
       "\n",
       "       vote_average  vote_count  \n",
       "19730          <NA>        <NA>  \n",
       "29503          <NA>        <NA>  \n",
       "35587          <NA>        <NA>  "
      ]
     },
     "execution_count": 7,
     "metadata": {},
     "output_type": "execute_result"
    }
   ],
   "source": [
    "# identificamos las filas que contienen datos tipo fecha en la columna de nuestro primary key: pelicula_id\n",
    "def check_type(x):\n",
    "     try: \n",
    "        return type(eval(x)) \n",
    "     except Exception as e:\n",
    "        return type(x)\n",
    "\n",
    "data_movies_subset.loc[data_movies_subset['pelicula_id'].map(check_type)!=int]"
   ]
  },
  {
   "cell_type": "code",
   "execution_count": 8,
   "metadata": {},
   "outputs": [
    {
     "name": "stdout",
     "output_type": "stream",
     "text": [
      "Numero de filas que no contienen datos tipo fecha en la columna ['pelicula_id']: 0\n"
     ]
    }
   ],
   "source": [
    "# removemos las filas que contienen fecha en la columna de primary key\n",
    "data_movies_subset.drop(\n",
    "    data_movies_subset.loc[data_movies_subset['pelicula_id'].map(check_type)!=int].index,\n",
    "    inplace=True)\n",
    "print(\"Numero de filas que no contienen datos tipo fecha en la columna ['pelicula_id']:\",\n",
    "    data_movies_subset.loc[data_movies_subset['pelicula_id'].map(check_type)!=int].shape[0]\n",
    ")"
   ]
  },
  {
   "cell_type": "markdown",
   "metadata": {},
   "source": [
    "## Instruccion 2\n",
    "De haber fechas, deberán tener el formato AAAA-mm-dd"
   ]
  },
  {
   "cell_type": "code",
   "execution_count": 9,
   "metadata": {},
   "outputs": [],
   "source": [
    "columns_numeric=[\n",
    "    'pelicula_id',\n",
    "    'budget',\n",
    "    'revenue',\n",
    "    'popularity',\n",
    "    'vote_average',\n",
    "    'vote_count',\n",
    "    'runtime']\n",
    "\n",
    "columns_date=['release_date']\n",
    "\n",
    "data_movies_subset[columns_numeric]=data_movies_subset[columns_numeric].apply(pd.to_numeric) # convertimos a numerica\n",
    "data_movies_subset[columns_date]=data_movies_subset[columns_date].apply(pd.to_datetime) # convertimos a fecha "
   ]
  },
  {
   "cell_type": "code",
   "execution_count": 10,
   "metadata": {},
   "outputs": [
    {
     "name": "stdout",
     "output_type": "stream",
     "text": [
      "<class 'pandas.core.frame.DataFrame'>\n",
      "Index: 45463 entries, 0 to 45465\n",
      "Data columns (total 11 columns):\n",
      " #   Column             Non-Null Count  Dtype         \n",
      "---  ------             --------------  -----         \n",
      " 0   budget             45463 non-null  Int64         \n",
      " 1   pelicula_id        45463 non-null  Int64         \n",
      " 2   original_language  45452 non-null  string        \n",
      " 3   overview           44509 non-null  string        \n",
      " 4   popularity         45460 non-null  Float64       \n",
      " 5   release_date       45376 non-null  datetime64[ns]\n",
      " 6   revenue            45460 non-null  Int64         \n",
      " 7   runtime            45203 non-null  Int64         \n",
      " 8   title              45460 non-null  string        \n",
      " 9   vote_average       45460 non-null  Float64       \n",
      " 10  vote_count         45460 non-null  Int64         \n",
      "dtypes: Float64(2), Int64(5), datetime64[ns](1), string(3)\n",
      "memory usage: 4.5 MB\n"
     ]
    },
    {
     "data": {
      "text/html": [
       "<div>\n",
       "<style scoped>\n",
       "    .dataframe tbody tr th:only-of-type {\n",
       "        vertical-align: middle;\n",
       "    }\n",
       "\n",
       "    .dataframe tbody tr th {\n",
       "        vertical-align: top;\n",
       "    }\n",
       "\n",
       "    .dataframe thead th {\n",
       "        text-align: right;\n",
       "    }\n",
       "</style>\n",
       "<table border=\"1\" class=\"dataframe\">\n",
       "  <thead>\n",
       "    <tr style=\"text-align: right;\">\n",
       "      <th></th>\n",
       "      <th>budget</th>\n",
       "      <th>pelicula_id</th>\n",
       "      <th>original_language</th>\n",
       "      <th>overview</th>\n",
       "      <th>popularity</th>\n",
       "      <th>release_date</th>\n",
       "      <th>revenue</th>\n",
       "      <th>runtime</th>\n",
       "      <th>title</th>\n",
       "      <th>vote_average</th>\n",
       "      <th>vote_count</th>\n",
       "    </tr>\n",
       "  </thead>\n",
       "  <tbody>\n",
       "    <tr>\n",
       "      <th>0</th>\n",
       "      <td>30000000</td>\n",
       "      <td>862</td>\n",
       "      <td>en</td>\n",
       "      <td>Led by Woody, Andy's toys live happily in his ...</td>\n",
       "      <td>21.946943</td>\n",
       "      <td>1995-10-30</td>\n",
       "      <td>373554033</td>\n",
       "      <td>81</td>\n",
       "      <td>Toy Story</td>\n",
       "      <td>7.7</td>\n",
       "      <td>5415</td>\n",
       "    </tr>\n",
       "    <tr>\n",
       "      <th>1</th>\n",
       "      <td>65000000</td>\n",
       "      <td>8844</td>\n",
       "      <td>en</td>\n",
       "      <td>When siblings Judy and Peter discover an encha...</td>\n",
       "      <td>17.015539</td>\n",
       "      <td>1995-12-15</td>\n",
       "      <td>262797249</td>\n",
       "      <td>104</td>\n",
       "      <td>Jumanji</td>\n",
       "      <td>6.9</td>\n",
       "      <td>2413</td>\n",
       "    </tr>\n",
       "    <tr>\n",
       "      <th>2</th>\n",
       "      <td>0</td>\n",
       "      <td>15602</td>\n",
       "      <td>en</td>\n",
       "      <td>A family wedding reignites the ancient feud be...</td>\n",
       "      <td>11.7129</td>\n",
       "      <td>1995-12-22</td>\n",
       "      <td>0</td>\n",
       "      <td>101</td>\n",
       "      <td>Grumpier Old Men</td>\n",
       "      <td>6.5</td>\n",
       "      <td>92</td>\n",
       "    </tr>\n",
       "  </tbody>\n",
       "</table>\n",
       "</div>"
      ],
      "text/plain": [
       "     budget  pelicula_id original_language  \\\n",
       "0  30000000          862                en   \n",
       "1  65000000         8844                en   \n",
       "2         0        15602                en   \n",
       "\n",
       "                                            overview  popularity release_date  \\\n",
       "0  Led by Woody, Andy's toys live happily in his ...   21.946943   1995-10-30   \n",
       "1  When siblings Judy and Peter discover an encha...   17.015539   1995-12-15   \n",
       "2  A family wedding reignites the ancient feud be...     11.7129   1995-12-22   \n",
       "\n",
       "     revenue  runtime             title  vote_average  vote_count  \n",
       "0  373554033       81         Toy Story           7.7        5415  \n",
       "1  262797249      104           Jumanji           6.9        2413  \n",
       "2          0      101  Grumpier Old Men           6.5          92  "
      ]
     },
     "execution_count": 10,
     "metadata": {},
     "output_type": "execute_result"
    }
   ],
   "source": [
    "data_movies_subset_limpia=data_movies_subset.convert_dtypes() # volvemos a evaluar el df\n",
    "data_movies_subset_limpia.info()\n",
    "data_movies_subset_limpia.head(3)"
   ]
  },
  {
   "cell_type": "markdown",
   "metadata": {},
   "source": [
    "## Instruccion 3\n",
    "Los valores nulos del campo release date deben eliminarse"
   ]
  },
  {
   "cell_type": "code",
   "execution_count": 42,
   "metadata": {},
   "outputs": [
    {
     "name": "stdout",
     "output_type": "stream",
     "text": [
      "Cantidad de valores nulos en ['release_date']: 87\n",
      "Cantidad de valores nulos en ['release_date'] despues del drop: 0\n"
     ]
    }
   ],
   "source": [
    "# instruccion 1: Los valores nulos del campo release date deben eliminarse\n",
    "data_movies_subset_limpia['release_date'].isna().any()\n",
    "print(\"Cantidad de valores nulos en ['release_date']:\",\n",
    "    data_movies_subset_limpia.loc[data_movies_subset_limpia['release_date'].isna()].shape[0])\n",
    "data_movies_subset_limpia['release_date'].isna()\n",
    "rows_release_date_na = data_movies_subset_limpia.loc[data_movies_subset_limpia['release_date'].isna()].index\n",
    "data_movies_subset_limpia.drop(rows_release_date_na, inplace=True)\n",
    "print(\"Cantidad de valores nulos en ['release_date'] despues del drop:\",\n",
    "    data_movies_subset_limpia.loc[data_movies_subset_limpia['release_date'].isna()].shape[0])"
   ]
  },
  {
   "cell_type": "markdown",
   "metadata": {},
   "source": [
    "## Instruccion 4\n",
    "Deberán crear la columna release_year donde extraerán el año de la fecha de estreno."
   ]
  },
  {
   "cell_type": "code",
   "execution_count": 43,
   "metadata": {},
   "outputs": [],
   "source": [
    "data_movies_subset_limpia['release_year'] = data_movies_subset_limpia['release_date'].dt.year"
   ]
  },
  {
   "cell_type": "markdown",
   "metadata": {},
   "source": [
    "## Instruccion 5\n",
    "\n",
    "Los valores nulos de los campos revenue, budget deben ser rellenados por el número 0"
   ]
  },
  {
   "cell_type": "code",
   "execution_count": 44,
   "metadata": {},
   "outputs": [
    {
     "data": {
      "text/plain": [
       "budget     0\n",
       "revenue    0\n",
       "dtype: int64"
      ]
     },
     "execution_count": 44,
     "metadata": {},
     "output_type": "execute_result"
    }
   ],
   "source": [
    "# Cantidad de valores nulos en ['budget','revenue']\n",
    "data_movies_subset_limpia[['budget','revenue']].isna().sum()"
   ]
  },
  {
   "cell_type": "code",
   "execution_count": 45,
   "metadata": {},
   "outputs": [
    {
     "data": {
      "text/plain": [
       "budget     0\n",
       "revenue    0\n",
       "dtype: int64"
      ]
     },
     "execution_count": 45,
     "metadata": {},
     "output_type": "execute_result"
    }
   ],
   "source": [
    "data_movies_subset_limpia[['budget','revenue']] = data_movies_subset_limpia[['budget','revenue']].fillna(0)\n",
    "data_movies_subset_limpia[['budget','revenue']].isna().sum()"
   ]
  },
  {
   "cell_type": "markdown",
   "metadata": {},
   "source": [
    "## Instruccion 6\n",
    "Crear la columna con el retorno de inversión, llamada return con los campos revenue y budget, dividiendo estas dos últimas revenue / budget, cuando no hay datos disponibles para calcularlo, deberá tomar el valor 0"
   ]
  },
  {
   "cell_type": "code",
   "execution_count": 46,
   "metadata": {},
   "outputs": [
    {
     "name": "stdout",
     "output_type": "stream",
     "text": [
      "Hay valores nulos en cualquiera de ['revenue','budget','return']: False\n"
     ]
    }
   ],
   "source": [
    "data_movies_subset_limpia['return']=data_movies_subset_limpia['revenue']/data_movies_subset_limpia['budget'] # nueva columna return\n",
    "data_movies_subset_limpia['return']=np.nan_to_num(data_movies_subset_limpia['return']) # convertimos a np.num para facilar el reemplazo a zeros\n",
    "data_movies_subset_limpia['return'].fillna(0, inplace=True) # reemplazamos por zero cuando no hay datos para el caso de NaN\n",
    "data_movies_subset_limpia['return'].replace([np.inf, -np.inf], 0, inplace=True) # reemplazamos por zero cuando no hay datos para el caso de inf\n",
    "print(\"Hay valores nulos en cualquiera de ['revenue','budget','return']:\",\n",
    "    any(data_movies_subset_limpia[['revenue','budget','return']].isna().any()))\n"
   ]
  },
  {
   "cell_type": "code",
   "execution_count": 47,
   "metadata": {},
   "outputs": [
    {
     "name": "stdout",
     "output_type": "stream",
     "text": [
      "Numero de peliculas unicas: 45346 \n",
      "\n",
      "Numero de registros (filas): 45359 \n",
      "\n",
      "Numero de peliculas con informacion inconsiste: 13 \n",
      "\n"
     ]
    }
   ],
   "source": [
    "# Removemos duplicados\n",
    "data_movies_subset_limpia.drop_duplicates(inplace=True) # no funciona; deben existir filas que no son exactamente iguales.\n",
    "print(\"Numero de peliculas unicas:\",data_movies_subset_limpia['pelicula_id'].nunique(),\"\\n\")\n",
    "print(\"Numero de registros (filas):\",data_movies_subset_limpia.shape[0],\"\\n\")\n",
    "print(\"Numero de peliculas con informacion inconsiste:\",data_movies_subset_limpia.shape[0]-data_movies_subset_limpia['pelicula_id'].nunique(),\"\\n\")"
   ]
  },
  {
   "cell_type": "code",
   "execution_count": 48,
   "metadata": {},
   "outputs": [
    {
     "name": "stdout",
     "output_type": "stream",
     "text": [
      "Numero de filas con informacion duplicada en algunas columnas: 26\n",
      "Numero de peliculas unicas con informacion duplicadas en algunas columnas: 13\n"
     ]
    },
    {
     "data": {
      "text/html": [
       "<div>\n",
       "<style scoped>\n",
       "    .dataframe tbody tr th:only-of-type {\n",
       "        vertical-align: middle;\n",
       "    }\n",
       "\n",
       "    .dataframe tbody tr th {\n",
       "        vertical-align: top;\n",
       "    }\n",
       "\n",
       "    .dataframe thead th {\n",
       "        text-align: right;\n",
       "    }\n",
       "</style>\n",
       "<table border=\"1\" class=\"dataframe\">\n",
       "  <thead>\n",
       "    <tr style=\"text-align: right;\">\n",
       "      <th></th>\n",
       "      <th>budget</th>\n",
       "      <th>pelicula_id</th>\n",
       "      <th>original_language</th>\n",
       "      <th>overview</th>\n",
       "      <th>popularity</th>\n",
       "      <th>release_date</th>\n",
       "      <th>revenue</th>\n",
       "      <th>runtime</th>\n",
       "      <th>title</th>\n",
       "      <th>vote_average</th>\n",
       "      <th>vote_count</th>\n",
       "      <th>release_year</th>\n",
       "      <th>return</th>\n",
       "    </tr>\n",
       "  </thead>\n",
       "  <tbody>\n",
       "    <tr>\n",
       "      <th>33826</th>\n",
       "      <td>30000000</td>\n",
       "      <td>4912</td>\n",
       "      <td>en</td>\n",
       "      <td>Television made him famous, but his biggest hi...</td>\n",
       "      <td>7.645827</td>\n",
       "      <td>2002-12-30</td>\n",
       "      <td>33013805</td>\n",
       "      <td>113</td>\n",
       "      <td>Confessions of a Dangerous Mind</td>\n",
       "      <td>6.6</td>\n",
       "      <td>281</td>\n",
       "      <td>2002</td>\n",
       "      <td>1.100460</td>\n",
       "    </tr>\n",
       "    <tr>\n",
       "      <th>5865</th>\n",
       "      <td>30000000</td>\n",
       "      <td>4912</td>\n",
       "      <td>en</td>\n",
       "      <td>Television made him famous, but his biggest hi...</td>\n",
       "      <td>11.331072</td>\n",
       "      <td>2002-12-30</td>\n",
       "      <td>33013805</td>\n",
       "      <td>113</td>\n",
       "      <td>Confessions of a Dangerous Mind</td>\n",
       "      <td>6.6</td>\n",
       "      <td>281</td>\n",
       "      <td>2002</td>\n",
       "      <td>1.100460</td>\n",
       "    </tr>\n",
       "    <tr>\n",
       "      <th>4114</th>\n",
       "      <td>16000000</td>\n",
       "      <td>10991</td>\n",
       "      <td>ja</td>\n",
       "      <td>When Molly Hale's sadness of her father's disa...</td>\n",
       "      <td>10.264597</td>\n",
       "      <td>2000-07-08</td>\n",
       "      <td>68411275</td>\n",
       "      <td>93</td>\n",
       "      <td>Pokémon: Spell of the Unknown</td>\n",
       "      <td>6.0</td>\n",
       "      <td>143</td>\n",
       "      <td>2000</td>\n",
       "      <td>4.275705</td>\n",
       "    </tr>\n",
       "    <tr>\n",
       "      <th>44821</th>\n",
       "      <td>16000000</td>\n",
       "      <td>10991</td>\n",
       "      <td>ja</td>\n",
       "      <td>When Molly Hale's sadness of her father's disa...</td>\n",
       "      <td>6.480376</td>\n",
       "      <td>2000-07-08</td>\n",
       "      <td>68411275</td>\n",
       "      <td>93</td>\n",
       "      <td>Pokémon: Spell of the Unknown</td>\n",
       "      <td>6.0</td>\n",
       "      <td>144</td>\n",
       "      <td>2000</td>\n",
       "      <td>4.275705</td>\n",
       "    </tr>\n",
       "  </tbody>\n",
       "</table>\n",
       "</div>"
      ],
      "text/plain": [
       "         budget  pelicula_id original_language  \\\n",
       "33826  30000000         4912                en   \n",
       "5865   30000000         4912                en   \n",
       "4114   16000000        10991                ja   \n",
       "44821  16000000        10991                ja   \n",
       "\n",
       "                                                overview  popularity  \\\n",
       "33826  Television made him famous, but his biggest hi...    7.645827   \n",
       "5865   Television made him famous, but his biggest hi...   11.331072   \n",
       "4114   When Molly Hale's sadness of her father's disa...   10.264597   \n",
       "44821  When Molly Hale's sadness of her father's disa...    6.480376   \n",
       "\n",
       "      release_date   revenue  runtime                            title  \\\n",
       "33826   2002-12-30  33013805      113  Confessions of a Dangerous Mind   \n",
       "5865    2002-12-30  33013805      113  Confessions of a Dangerous Mind   \n",
       "4114    2000-07-08  68411275       93    Pokémon: Spell of the Unknown   \n",
       "44821   2000-07-08  68411275       93    Pokémon: Spell of the Unknown   \n",
       "\n",
       "       vote_average  vote_count  release_year    return  \n",
       "33826           6.6         281          2002  1.100460  \n",
       "5865            6.6         281          2002  1.100460  \n",
       "4114            6.0         143          2000  4.275705  \n",
       "44821           6.0         144          2000  4.275705  "
      ]
     },
     "execution_count": 48,
     "metadata": {},
     "output_type": "execute_result"
    }
   ],
   "source": [
    "# para una misma pelicula existen valores distintos.\n",
    "data_movies_subset_inconsistent=data_movies_subset_limpia.loc[data_movies_subset_limpia.duplicated(subset=['pelicula_id'], keep=False)]\n",
    "print(\"Numero de filas con informacion duplicada en algunas columnas:\",\n",
    "    data_movies_subset_inconsistent.shape[0])\n",
    "print(\"Numero de peliculas unicas con informacion duplicadas en algunas columnas:\",\n",
    "    data_movies_subset_inconsistent['pelicula_id'].nunique())\n",
    "data_movies_subset_inconsistent.sort_values(['pelicula_id']).head(4)"
   ]
  },
  {
   "cell_type": "code",
   "execution_count": 49,
   "metadata": {},
   "outputs": [
    {
     "name": "stdout",
     "output_type": "stream",
     "text": [
      "Numero de peliculas unicas: 45346 \n",
      "\n",
      "Numero de registros (filas): 45346 \n",
      "\n",
      "Numero de peliculas con informacion inconsiste: 0 \n",
      "\n"
     ]
    }
   ],
   "source": [
    "# Solucionamos tomando la primera entrada para cada pelicula, y descartamos el resto.\n",
    "data_movies_subset_limpia_sindups=data_movies_subset_limpia.loc[~data_movies_subset_limpia.duplicated(subset=['pelicula_id'], keep='first')]\n",
    "print(\"Numero de peliculas unicas:\",data_movies_subset_limpia_sindups['pelicula_id'].nunique(),\"\\n\")\n",
    "print(\"Numero de registros (filas):\",data_movies_subset_limpia_sindups.shape[0],\"\\n\")\n",
    "print(\"Numero de peliculas con informacion inconsiste:\",\n",
    "      data_movies_subset_limpia_sindups.shape[0]-data_movies_subset_limpia_sindups['pelicula_id'].nunique(),\"\\n\")\n"
   ]
  },
  {
   "cell_type": "markdown",
   "metadata": {},
   "source": [
    "## Finalizamos\n",
    "Guardamos el dataset limpio"
   ]
  },
  {
   "cell_type": "code",
   "execution_count": 50,
   "metadata": {},
   "outputs": [
    {
     "name": "stdout",
     "output_type": "stream",
     "text": [
      "Universo de peliculas con datos unicos: 45346 \n",
      "\n",
      "<class 'pandas.core.frame.DataFrame'>\n",
      "Index: 45346 entries, 0 to 45465\n",
      "Data columns (total 13 columns):\n",
      " #   Column             Non-Null Count  Dtype         \n",
      "---  ------             --------------  -----         \n",
      " 0   budget             45346 non-null  Int64         \n",
      " 1   pelicula_id        45346 non-null  Int64         \n",
      " 2   original_language  45335 non-null  string        \n",
      " 3   overview           44405 non-null  string        \n",
      " 4   popularity         45346 non-null  Float64       \n",
      " 5   release_date       45346 non-null  datetime64[ns]\n",
      " 6   revenue            45346 non-null  Int64         \n",
      " 7   runtime            45100 non-null  Int64         \n",
      " 8   title              45346 non-null  string        \n",
      " 9   vote_average       45346 non-null  Float64       \n",
      " 10  vote_count         45346 non-null  Int64         \n",
      " 11  release_year       45346 non-null  int32         \n",
      " 12  return             45346 non-null  float64       \n",
      "dtypes: Float64(2), Int64(5), datetime64[ns](1), float64(1), int32(1), string(3)\n",
      "memory usage: 5.0 MB\n"
     ]
    },
    {
     "data": {
      "text/html": [
       "<div>\n",
       "<style scoped>\n",
       "    .dataframe tbody tr th:only-of-type {\n",
       "        vertical-align: middle;\n",
       "    }\n",
       "\n",
       "    .dataframe tbody tr th {\n",
       "        vertical-align: top;\n",
       "    }\n",
       "\n",
       "    .dataframe thead th {\n",
       "        text-align: right;\n",
       "    }\n",
       "</style>\n",
       "<table border=\"1\" class=\"dataframe\">\n",
       "  <thead>\n",
       "    <tr style=\"text-align: right;\">\n",
       "      <th></th>\n",
       "      <th>budget</th>\n",
       "      <th>pelicula_id</th>\n",
       "      <th>original_language</th>\n",
       "      <th>overview</th>\n",
       "      <th>popularity</th>\n",
       "      <th>release_date</th>\n",
       "      <th>revenue</th>\n",
       "      <th>runtime</th>\n",
       "      <th>title</th>\n",
       "      <th>vote_average</th>\n",
       "      <th>vote_count</th>\n",
       "      <th>release_year</th>\n",
       "      <th>return</th>\n",
       "    </tr>\n",
       "  </thead>\n",
       "  <tbody>\n",
       "    <tr>\n",
       "      <th>0</th>\n",
       "      <td>30000000</td>\n",
       "      <td>862</td>\n",
       "      <td>en</td>\n",
       "      <td>Led by Woody, Andy's toys live happily in his ...</td>\n",
       "      <td>21.946943</td>\n",
       "      <td>1995-10-30</td>\n",
       "      <td>373554033</td>\n",
       "      <td>81</td>\n",
       "      <td>Toy Story</td>\n",
       "      <td>7.7</td>\n",
       "      <td>5415</td>\n",
       "      <td>1995</td>\n",
       "      <td>12.451801</td>\n",
       "    </tr>\n",
       "    <tr>\n",
       "      <th>1</th>\n",
       "      <td>65000000</td>\n",
       "      <td>8844</td>\n",
       "      <td>en</td>\n",
       "      <td>When siblings Judy and Peter discover an encha...</td>\n",
       "      <td>17.015539</td>\n",
       "      <td>1995-12-15</td>\n",
       "      <td>262797249</td>\n",
       "      <td>104</td>\n",
       "      <td>Jumanji</td>\n",
       "      <td>6.9</td>\n",
       "      <td>2413</td>\n",
       "      <td>1995</td>\n",
       "      <td>4.043035</td>\n",
       "    </tr>\n",
       "  </tbody>\n",
       "</table>\n",
       "</div>"
      ],
      "text/plain": [
       "     budget  pelicula_id original_language  \\\n",
       "0  30000000          862                en   \n",
       "1  65000000         8844                en   \n",
       "\n",
       "                                            overview  popularity release_date  \\\n",
       "0  Led by Woody, Andy's toys live happily in his ...   21.946943   1995-10-30   \n",
       "1  When siblings Judy and Peter discover an encha...   17.015539   1995-12-15   \n",
       "\n",
       "     revenue  runtime      title  vote_average  vote_count  release_year  \\\n",
       "0  373554033       81  Toy Story           7.7        5415          1995   \n",
       "1  262797249      104    Jumanji           6.9        2413          1995   \n",
       "\n",
       "      return  \n",
       "0  12.451801  \n",
       "1   4.043035  "
      ]
     },
     "execution_count": 50,
     "metadata": {},
     "output_type": "execute_result"
    }
   ],
   "source": [
    "# Nuestro dataset final\n",
    "print(\"Universo de peliculas con datos unicos:\",data_movies_subset_limpia_sindups['pelicula_id'].nunique(),\"\\n\")\n",
    "data_movies_subset_limpia_sindups.to_csv(os.path.join(\"2_pipeline\",\"data_movies_subset_limpia.csv\"))\n",
    "data_movies_subset_limpia_sindups.info()\n",
    "data_movies_subset_limpia_sindups.head(2)\n"
   ]
  }
 ],
 "metadata": {
  "kernelspec": {
   "display_name": "pandas_scikit",
   "language": "python",
   "name": "python3"
  },
  "language_info": {
   "codemirror_mode": {
    "name": "ipython",
    "version": 3
   },
   "file_extension": ".py",
   "mimetype": "text/x-python",
   "name": "python",
   "nbconvert_exporter": "python",
   "pygments_lexer": "ipython3",
   "version": "3.10.12"
  },
  "orig_nbformat": 4
 },
 "nbformat": 4,
 "nbformat_minor": 2
}
