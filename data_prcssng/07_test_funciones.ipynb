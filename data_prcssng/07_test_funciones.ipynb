{
 "cells": [
  {
   "cell_type": "markdown",
   "metadata": {},
   "source": [
    "# Prueba de consultas\n",
    "\n",
    "En esta seccion probamos las consultas"
   ]
  },
  {
   "cell_type": "code",
   "execution_count": 38,
   "metadata": {},
   "outputs": [
    {
     "name": "stdout",
     "output_type": "stream",
     "text": [
      "3.10.12\n"
     ]
    }
   ],
   "source": [
    "import os\n",
    "import pandas as pd\n",
    "import fastapi\n",
    "from platform import python_version\n",
    "print(python_version()) # python 3.7.16"
   ]
  },
  {
   "cell_type": "code",
   "execution_count": 39,
   "metadata": {},
   "outputs": [],
   "source": [
    "data_mvp_funciones = pd.read_csv(os.path.join('3_output','data_mvp_final_funciones.csv'),index_col=0).convert_dtypes()\n",
    "data_mvp_director = pd.read_csv(os.path.join('3_output','data_mvp_final_funciones_exitodir.csv'),index_col=0).convert_dtypes()\n",
    "data_mvp_recomendacion = pd.read_csv(os.path.join('3_output','data_mvp_ml_recomend_indexed.csv'),index_col=[0,1]).convert_dtypes()\n",
    "\n",
    "#app = FastAPI()"
   ]
  },
  {
   "cell_type": "markdown",
   "metadata": {},
   "source": [
    "Instruccion:\n",
    "\n",
    "def peliculas_idioma( Idioma: str ): Se ingresa un idioma (como están escritos en el dataset, no hay que traducirlos!). Debe devolver la cantidad de películas producidas en ese idioma.\n",
    "\n",
    "Ejemplo de retorno: X cantidad de películas fueron estrenadas en idioma"
   ]
  },
  {
   "cell_type": "code",
   "execution_count": 40,
   "metadata": {},
   "outputs": [
    {
     "data": {
      "text/plain": [
       "'32189 películas fueron estrenadas en idioma: en'"
      ]
     },
     "execution_count": 40,
     "metadata": {},
     "output_type": "execute_result"
    }
   ],
   "source": [
    "#@app.get(\"/peliculas_idioma/{idioma}\")\n",
    "# definimos\n",
    "def pelicula_idioma(idioma: str):\n",
    "    cantidad = data_mvp_funciones['pelicula_id'].loc[\n",
    "        data_mvp_funciones['original_language'].isin([idioma])].nunique()\n",
    "    return f\"{cantidad} películas fueron estrenadas en idioma: {idioma}\"\n",
    "\n",
    "# test\n",
    "pelicula_idioma('en')"
   ]
  },
  {
   "cell_type": "markdown",
   "metadata": {},
   "source": [
    "Instruccion\n",
    "\n",
    "def peliculas_duracion( Pelicula: str ): Se ingresa una pelicula. Debe devolver la duracion y el año.\n",
    "\n",
    "Ejemplo de retorno: X . Duración: x. Año: xx"
   ]
  },
  {
   "cell_type": "code",
   "execution_count": 41,
   "metadata": {},
   "outputs": [
    {
     "data": {
      "text/plain": [
       "'Toy Story. Duración: 81 min; año: 1995'"
      ]
     },
     "execution_count": 41,
     "metadata": {},
     "output_type": "execute_result"
    }
   ],
   "source": [
    "#@app.get(\"/peliculas_duracion/{pelicula}\")\n",
    "# definimos\n",
    "def pelicula_duracion(pelicula: str):\n",
    "    pelicula_title = str(pelicula)\n",
    "    duracion = data_mvp_funciones.loc[data_mvp_funciones['title'].str.contains(pelicula_title), 'runtime'].iloc[0]\n",
    "    release_year = data_mvp_funciones.loc[data_mvp_funciones['title'].str.contains(pelicula_title), 'release_year'].iloc[0]\n",
    "    return f\"{pelicula_title}. Duración: {round(duracion)} min; año: {release_year}\"\n",
    "\n",
    "# test\n",
    "pelicula_duracion('Toy Story')"
   ]
  },
  {
   "cell_type": "markdown",
   "metadata": {},
   "source": [
    "Instruccion:\n",
    "\n",
    "def franquicia( Franquicia: str ): Se ingresa la franquicia, retornando la cantidad de peliculas, ganancia total y promedio\n",
    "\n",
    "Ejemplo de retorno: La franquicia X posee X peliculas, una ganancia total de x y una ganancia promedio de xx"
   ]
  },
  {
   "cell_type": "code",
   "execution_count": 42,
   "metadata": {},
   "outputs": [
    {
     "data": {
      "text/plain": [
       "'La franquicia Toy Story Collection posee 3 película(s), una ganancia total de USD$3,004,860,308, y una ganancia promedio de USD$751,215,077 por pelicula.'"
      ]
     },
     "execution_count": 42,
     "metadata": {},
     "output_type": "execute_result"
    }
   ],
   "source": [
    "#@app.get(\"/franquicia/{franquicia}\")\n",
    "# definimos\n",
    "def franquicia(franquicia: str):\n",
    "    franquicia_str=str(franquicia)\n",
    "    franquicia_subset = data_mvp_funciones.loc[\n",
    "        data_mvp_funciones['franquicia'].str.contains(franquicia_str)]\n",
    "    cantidad = franquicia_subset['pelicula_id'].nunique()\n",
    "    ganancia = franquicia_subset['revenue'].sum()\n",
    "    ganancia_res = ('{:,}'.format(round(ganancia)))\n",
    "    promedio = franquicia_subset['revenue'].mean()\n",
    "    promedio_res = ('{:,}'.format(round(promedio)))\n",
    "    return f\"La franquicia {franquicia_str} posee {cantidad} película(s), una ganancia total de USD${ganancia_res}, y una ganancia promedio de USD${promedio_res} por pelicula.\"\n",
    "\n",
    "# test\n",
    "franquicia('Toy Story Collection')"
   ]
  },
  {
   "cell_type": "markdown",
   "metadata": {},
   "source": [
    "Instruccion:\n",
    "\n",
    "def peliculas_pais( Pais: str ): Se ingresa un país (como están escritos en el dataset, no hay que traducirlos!), retornando la cantidad de peliculas producidas en el mismo.\n",
    "\n",
    "Ejemplo de retorno: Se produjeron X películas en el país X"
   ]
  },
  {
   "cell_type": "code",
   "execution_count": 43,
   "metadata": {},
   "outputs": [
    {
     "data": {
      "text/plain": [
       "'Se produjeron 2570 películas en el país United States of America'"
      ]
     },
     "execution_count": 43,
     "metadata": {},
     "output_type": "execute_result"
    }
   ],
   "source": [
    "#@app.get(\"/peliculas_pais/{pais}\")\n",
    "# definimos\n",
    "def pelicula_pais(pais: str):\n",
    "    pais_str = str(pais)\n",
    "    cantidad = data_mvp_funciones['pelicula_id'].loc[\n",
    "       data_mvp_funciones['pais_name'].str.contains(pais_str)].nunique()\n",
    "    return f\"Se produjeron {cantidad} películas en el país {pais}\"\n",
    "# test\n",
    "pelicula_pais('United States of America')"
   ]
  },
  {
   "cell_type": "markdown",
   "metadata": {},
   "source": [
    "Instruccion:\n",
    "\n",
    "def productoras_exitosas( Productora: str ): Se ingresa la productora, entregandote el revunue total y la cantidad de peliculas que realizo.\n",
    "\n",
    "Ejemplo de retorno: La productora X ha tenido un revenue de x"
   ]
  },
  {
   "cell_type": "code",
   "execution_count": 44,
   "metadata": {},
   "outputs": [
    {
     "data": {
      "text/plain": [
       "'La productora Pixar Animation Studios ha tenido un revenue total de USD$9,267,027,021, y realizo un total de 12 de pelicula(s)'"
      ]
     },
     "execution_count": 44,
     "metadata": {},
     "output_type": "execute_result"
    }
   ],
   "source": [
    "#@app.get(\"/productoras_exitosas/{productora}\")\n",
    "# definimos\n",
    "def productora_exitosa(productora: str):\n",
    "    productora_subset = data_mvp_funciones.loc[\n",
    "        data_mvp_funciones['productora'].str.contains(productora)]\n",
    "    revenue = productora_subset['revenue'].sum()\n",
    "    revenue_res = ('{:,}'.format(round(revenue)))\n",
    "    cantidad = productora_subset['pelicula_id'].nunique()\n",
    "    return f\"La productora {productora} ha tenido un revenue total de USD${revenue_res}, y realizo un total de {cantidad} de pelicula(s)\"\n",
    "\n",
    "# test\n",
    "productora_exitosa('Pixar Animation Studios')"
   ]
  },
  {
   "cell_type": "markdown",
   "metadata": {},
   "source": [
    "Instruccion\n",
    "\n",
    "def get_director( nombre_director ): Se ingresa el nombre de un director que se encuentre dentro de un dataset debiendo devolver el éxito del mismo medido a través del retorno. Además, deberá devolver el nombre de cada película con la fecha de lanzamiento, retorno individual, costo y ganancia de la misma, en formato lista."
   ]
  },
  {
   "cell_type": "code",
   "execution_count": 45,
   "metadata": {},
   "outputs": [
    {
     "name": "stdout",
     "output_type": "stream",
     "text": [
      "<class 'pandas.core.frame.DataFrame'>\n",
      "Index: 18614 entries, 0 to 18613\n",
      "Data columns (total 11 columns):\n",
      " #   Column            Non-Null Count  Dtype  \n",
      "---  ------            --------------  -----  \n",
      " 0   director          18614 non-null  string \n",
      " 1   director_revenue  18614 non-null  Int64  \n",
      " 2   director_budget   18614 non-null  Int64  \n",
      " 3   director_return   18614 non-null  Float64\n",
      " 4   pelicula_id       18614 non-null  Int64  \n",
      " 5   title             18614 non-null  string \n",
      " 6   release_date      18614 non-null  string \n",
      " 7   release_year      18614 non-null  Int64  \n",
      " 8   budget            18614 non-null  Int64  \n",
      " 9   revenue           18614 non-null  Int64  \n",
      " 10  return            18614 non-null  Float64\n",
      "dtypes: Float64(2), Int64(6), string(3)\n",
      "memory usage: 1.8 MB\n"
     ]
    }
   ],
   "source": [
    "data_mvp_director.info()"
   ]
  },
  {
   "cell_type": "code",
   "execution_count": 46,
   "metadata": {},
   "outputs": [
    {
     "data": {
      "text/plain": [
       "{'director': 'Woody Allen',\n",
       " 'retorno total': 3.02,\n",
       " 'peliculas': [{'nombre': 'Mighty Aphrodite',\n",
       "   'fecha_lanzamiento': '1995-09-13',\n",
       "   'costo (USD)': '15,000,000',\n",
       "   'ganancia (USD)': '6,700,000',\n",
       "   'retorno (ratio)': 0.45},\n",
       "  {'nombre': 'Bullets Over Broadway',\n",
       "   'fecha_lanzamiento': '1994-10-14',\n",
       "   'costo (USD)': '0',\n",
       "   'ganancia (USD)': '0',\n",
       "   'retorno (ratio)': 0.0},\n",
       "  {'nombre': 'Manhattan Murder Mystery',\n",
       "   'fecha_lanzamiento': '1993-08-18',\n",
       "   'costo (USD)': '13,500,000',\n",
       "   'ganancia (USD)': '11,285,588',\n",
       "   'retorno (ratio)': 0.84},\n",
       "  {'nombre': 'Everyone Says I Love You',\n",
       "   'fecha_lanzamiento': '1996-12-06',\n",
       "   'costo (USD)': '20,000,000',\n",
       "   'ganancia (USD)': '0',\n",
       "   'retorno (ratio)': 0.0},\n",
       "  {'nombre': 'Sleeper',\n",
       "   'fecha_lanzamiento': '1973-12-17',\n",
       "   'costo (USD)': '2,000,000',\n",
       "   'ganancia (USD)': '18,344,729',\n",
       "   'retorno (ratio)': 9.17},\n",
       "  {'nombre': 'Bananas',\n",
       "   'fecha_lanzamiento': '1971-04-28',\n",
       "   'costo (USD)': '2,000,000',\n",
       "   'ganancia (USD)': '11,833,696',\n",
       "   'retorno (ratio)': 5.92},\n",
       "  {'nombre': 'Annie Hall',\n",
       "   'fecha_lanzamiento': '1977-04-19',\n",
       "   'costo (USD)': '4,000,000',\n",
       "   'ganancia (USD)': '38,251,425',\n",
       "   'retorno (ratio)': 9.56},\n",
       "  {'nombre': 'Manhattan',\n",
       "   'fecha_lanzamiento': '1979-04-25',\n",
       "   'costo (USD)': '0',\n",
       "   'ganancia (USD)': '39,946,780',\n",
       "   'retorno (ratio)': 0.0},\n",
       "  {'nombre': 'Deconstructing Harry',\n",
       "   'fecha_lanzamiento': '1997-08-26',\n",
       "   'costo (USD)': '20,000,000',\n",
       "   'ganancia (USD)': '10,686,841',\n",
       "   'retorno (ratio)': 0.53},\n",
       "  {'nombre': 'Take the Money and Run',\n",
       "   'fecha_lanzamiento': '1969-08-18',\n",
       "   'costo (USD)': '1,500,000',\n",
       "   'ganancia (USD)': '0',\n",
       "   'retorno (ratio)': 0.0},\n",
       "  {'nombre': 'The Purple Rose of Cairo',\n",
       "   'fecha_lanzamiento': '1985-03-01',\n",
       "   'costo (USD)': '15,000,000',\n",
       "   'ganancia (USD)': '10,631,333',\n",
       "   'retorno (ratio)': 0.71},\n",
       "  {'nombre': 'Stardust Memories',\n",
       "   'fecha_lanzamiento': '1980-09-26',\n",
       "   'costo (USD)': '10,000,000',\n",
       "   'ganancia (USD)': '10,389,003',\n",
       "   'retorno (ratio)': 1.04},\n",
       "  {'nombre': 'Celebrity',\n",
       "   'fecha_lanzamiento': '1998-09-07',\n",
       "   'costo (USD)': '0',\n",
       "   'ganancia (USD)': '0',\n",
       "   'retorno (ratio)': 0.0},\n",
       "  {'nombre': 'Radio Days',\n",
       "   'fecha_lanzamiento': '1987-01-30',\n",
       "   'costo (USD)': '16,000,000',\n",
       "   'ganancia (USD)': '0',\n",
       "   'retorno (ratio)': 0.0},\n",
       "  {'nombre': 'Crimes and Misdemeanors',\n",
       "   'fecha_lanzamiento': '1989-10-13',\n",
       "   'costo (USD)': '19,000,000',\n",
       "   'ganancia (USD)': '18,254,702',\n",
       "   'retorno (ratio)': 0.96},\n",
       "  {'nombre': 'Sweet and Lowdown',\n",
       "   'fecha_lanzamiento': '1999-12-03',\n",
       "   'costo (USD)': '0',\n",
       "   'ganancia (USD)': '0',\n",
       "   'retorno (ratio)': 0.0},\n",
       "  {'nombre': 'Small Time Crooks',\n",
       "   'fecha_lanzamiento': '2000-05-19',\n",
       "   'costo (USD)': '0',\n",
       "   'ganancia (USD)': '0',\n",
       "   'retorno (ratio)': 0.0},\n",
       "  {'nombre': 'Everything You Always Wanted to Know About Sex *But Were Afraid to Ask',\n",
       "   'fecha_lanzamiento': '1972-08-06',\n",
       "   'costo (USD)': '2,000,000',\n",
       "   'ganancia (USD)': '18,016,290',\n",
       "   'retorno (ratio)': 9.01},\n",
       "  {'nombre': 'Interiors',\n",
       "   'fecha_lanzamiento': '1978-08-02',\n",
       "   'costo (USD)': '0',\n",
       "   'ganancia (USD)': '0',\n",
       "   'retorno (ratio)': 0.0},\n",
       "  {'nombre': 'Love and Death',\n",
       "   'fecha_lanzamiento': '1975-06-10',\n",
       "   'costo (USD)': '3,000,000',\n",
       "   'ganancia (USD)': '20,173,742',\n",
       "   'retorno (ratio)': 6.72},\n",
       "  {'nombre': 'Alice',\n",
       "   'fecha_lanzamiento': '1990-12-25',\n",
       "   'costo (USD)': '0',\n",
       "   'ganancia (USD)': '0',\n",
       "   'retorno (ratio)': 0.0},\n",
       "  {'nombre': 'Another Woman',\n",
       "   'fecha_lanzamiento': '1988-10-13',\n",
       "   'costo (USD)': '0',\n",
       "   'ganancia (USD)': '0',\n",
       "   'retorno (ratio)': 0.0},\n",
       "  {'nombre': 'September',\n",
       "   'fecha_lanzamiento': '1987-01-01',\n",
       "   'costo (USD)': '0',\n",
       "   'ganancia (USD)': '0',\n",
       "   'retorno (ratio)': 0.0},\n",
       "  {'nombre': 'Shadows and Fog',\n",
       "   'fecha_lanzamiento': '1991-12-05',\n",
       "   'costo (USD)': '14,000,000',\n",
       "   'ganancia (USD)': '2,735,731',\n",
       "   'retorno (ratio)': 0.2},\n",
       "  {'nombre': 'New York Stories',\n",
       "   'fecha_lanzamiento': '1989-03-10',\n",
       "   'costo (USD)': '15,000,000',\n",
       "   'ganancia (USD)': '0',\n",
       "   'retorno (ratio)': 0.0},\n",
       "  {'nombre': 'The Curse of the Jade Scorpion',\n",
       "   'fecha_lanzamiento': '2001-08-05',\n",
       "   'costo (USD)': '0',\n",
       "   'ganancia (USD)': '0',\n",
       "   'retorno (ratio)': 0.0},\n",
       "  {'nombre': 'Husbands and Wives',\n",
       "   'fecha_lanzamiento': '1992-09-18',\n",
       "   'costo (USD)': '0',\n",
       "   'ganancia (USD)': '0',\n",
       "   'retorno (ratio)': 0.0},\n",
       "  {'nombre': 'Hollywood Ending',\n",
       "   'fecha_lanzamiento': '2002-05-03',\n",
       "   'costo (USD)': '16,000,000',\n",
       "   'ganancia (USD)': '0',\n",
       "   'retorno (ratio)': 0.0},\n",
       "  {'nombre': \"A Midsummer Night's Sex Comedy\",\n",
       "   'fecha_lanzamiento': '1982-07-16',\n",
       "   'costo (USD)': '0',\n",
       "   'ganancia (USD)': '0',\n",
       "   'retorno (ratio)': 0.0},\n",
       "  {'nombre': \"What's Up, Tiger Lily?\",\n",
       "   'fecha_lanzamiento': '1966-11-02',\n",
       "   'costo (USD)': '0',\n",
       "   'ganancia (USD)': '0',\n",
       "   'retorno (ratio)': 0.0},\n",
       "  {'nombre': 'Anything Else',\n",
       "   'fecha_lanzamiento': '2003-08-27',\n",
       "   'costo (USD)': '0',\n",
       "   'ganancia (USD)': '0',\n",
       "   'retorno (ratio)': 0.0},\n",
       "  {'nombre': 'Hannah and Her Sisters',\n",
       "   'fecha_lanzamiento': '1986-02-07',\n",
       "   'costo (USD)': '6,400,000',\n",
       "   'ganancia (USD)': '40,084,041',\n",
       "   'retorno (ratio)': 6.26},\n",
       "  {'nombre': 'Zelig',\n",
       "   'fecha_lanzamiento': '1983-07-15',\n",
       "   'costo (USD)': '0',\n",
       "   'ganancia (USD)': '11,798,616',\n",
       "   'retorno (ratio)': 0.0},\n",
       "  {'nombre': 'Broadway Danny Rose',\n",
       "   'fecha_lanzamiento': '1984-01-27',\n",
       "   'costo (USD)': '8,000,000',\n",
       "   'ganancia (USD)': '10,600,497',\n",
       "   'retorno (ratio)': 1.33},\n",
       "  {'nombre': 'Melinda and Melinda',\n",
       "   'fecha_lanzamiento': '2004-10-29',\n",
       "   'costo (USD)': '0',\n",
       "   'ganancia (USD)': '20,085,825',\n",
       "   'retorno (ratio)': 0.0},\n",
       "  {'nombre': 'Match Point',\n",
       "   'fecha_lanzamiento': '2005-10-26',\n",
       "   'costo (USD)': '15,000,000',\n",
       "   'ganancia (USD)': '85,306,374',\n",
       "   'retorno (ratio)': 5.69},\n",
       "  {'nombre': 'Scoop',\n",
       "   'fecha_lanzamiento': '2006-07-27',\n",
       "   'costo (USD)': '4,000,000',\n",
       "   'ganancia (USD)': '31,584,901',\n",
       "   'retorno (ratio)': 7.9},\n",
       "  {'nombre': \"Don't Drink the Water\",\n",
       "   'fecha_lanzamiento': '1994-12-18',\n",
       "   'costo (USD)': '0',\n",
       "   'ganancia (USD)': '0',\n",
       "   'retorno (ratio)': 0.0},\n",
       "  {'nombre': \"Cassandra's Dream\",\n",
       "   'fecha_lanzamiento': '2007-06-18',\n",
       "   'costo (USD)': '0',\n",
       "   'ganancia (USD)': '0',\n",
       "   'retorno (ratio)': 0.0},\n",
       "  {'nombre': 'Vicky Cristina Barcelona',\n",
       "   'fecha_lanzamiento': '2008-08-15',\n",
       "   'costo (USD)': '15,000,000',\n",
       "   'ganancia (USD)': '96,408,652',\n",
       "   'retorno (ratio)': 6.43},\n",
       "  {'nombre': 'Whatever Works',\n",
       "   'fecha_lanzamiento': '2009-06-19',\n",
       "   'costo (USD)': '15,000,000',\n",
       "   'ganancia (USD)': '35,097,815',\n",
       "   'retorno (ratio)': 2.34},\n",
       "  {'nombre': 'You Will Meet a Tall Dark Stranger',\n",
       "   'fecha_lanzamiento': '2010-05-23',\n",
       "   'costo (USD)': '22,000,000',\n",
       "   'ganancia (USD)': '0',\n",
       "   'retorno (ratio)': 0.0},\n",
       "  {'nombre': 'Midnight in Paris',\n",
       "   'fecha_lanzamiento': '2011-05-11',\n",
       "   'costo (USD)': '30,000,000',\n",
       "   'ganancia (USD)': '151,119,219',\n",
       "   'retorno (ratio)': 5.04},\n",
       "  {'nombre': 'To Rome with Love',\n",
       "   'fecha_lanzamiento': '2012-04-20',\n",
       "   'costo (USD)': '17,000,000',\n",
       "   'ganancia (USD)': '73,244,881',\n",
       "   'retorno (ratio)': 4.31},\n",
       "  {'nombre': 'Blue Jasmine',\n",
       "   'fecha_lanzamiento': '2013-07-25',\n",
       "   'costo (USD)': '18,000,000',\n",
       "   'ganancia (USD)': '99,206,215',\n",
       "   'retorno (ratio)': 5.51},\n",
       "  {'nombre': 'Magic in the Moonlight',\n",
       "   'fecha_lanzamiento': '2014-07-25',\n",
       "   'costo (USD)': '16,800,000',\n",
       "   'ganancia (USD)': '51,029,361',\n",
       "   'retorno (ratio)': 3.04},\n",
       "  {'nombre': 'Irrational Man',\n",
       "   'fecha_lanzamiento': '2015-07-17',\n",
       "   'costo (USD)': '11,000,000',\n",
       "   'ganancia (USD)': '27,391,084',\n",
       "   'retorno (ratio)': 2.49},\n",
       "  {'nombre': 'Café Society',\n",
       "   'fecha_lanzamiento': '2016-05-11',\n",
       "   'costo (USD)': '30,000,000',\n",
       "   'ganancia (USD)': '43,763,247',\n",
       "   'retorno (ratio)': 1.46},\n",
       "  {'nombre': 'Crisis in Six Scenes',\n",
       "   'fecha_lanzamiento': '2016-09-30',\n",
       "   'costo (USD)': '0',\n",
       "   'ganancia (USD)': '0',\n",
       "   'retorno (ratio)': 0.0}]}"
      ]
     },
     "execution_count": 46,
     "metadata": {},
     "output_type": "execute_result"
    }
   ],
   "source": [
    "#@app.get(\"/get_director/{director}\")\n",
    "# definimos\n",
    "def director_exitoso(director: str):\n",
    "    director_subset = data_mvp_director.loc[\n",
    "        data_mvp_director['director'].str.contains(director)]\n",
    "    director_return = director_subset['director_return'].drop_duplicates()\n",
    "    director_return_res = round(float(director_return.iloc[0]),2)\n",
    "    columns_peliculas=['pelicula_id','title','release_date','budget','revenue','return']\n",
    "    director_peliculas = director_subset[columns_peliculas].drop_duplicates()\n",
    "    peliculas = []\n",
    "    for _, pelicula in director_peliculas.iterrows():\n",
    "        pelicula_info = {\n",
    "            'nombre': pelicula['title'],\n",
    "            'fecha_lanzamiento': pelicula['release_date'],\n",
    "            'costo (USD)': ('{:,}'.format(round(pelicula['budget']))),\n",
    "            'ganancia (USD)': ('{:,}'.format(round(pelicula['revenue']))),\n",
    "            'retorno (ratio)': round(pelicula['return'],2)\n",
    "        }\n",
    "        peliculas.append(pelicula_info)\n",
    "    return {\n",
    "        'director': director,\n",
    "        'retorno total': director_return_res,\n",
    "        'peliculas': peliculas }\n",
    "# test\n",
    "director_exitoso('Woody Allen')"
   ]
  },
  {
   "cell_type": "markdown",
   "metadata": {},
   "source": [
    "Instruccion:\n",
    "\n",
    "def recomendacion( titulo ): Se ingresa el nombre de una película y te recomienda las similares en una lista de 5 valores."
   ]
  },
  {
   "cell_type": "code",
   "execution_count": 47,
   "metadata": {},
   "outputs": [
    {
     "name": "stdout",
     "output_type": "stream",
     "text": [
      "<class 'pandas.core.frame.DataFrame'>\n",
      "MultiIndex: 179170 entries, (1.0, 1.0) to (4.0, 5.0)\n",
      "Data columns (total 5 columns):\n",
      " #   Column        Non-Null Count   Dtype  \n",
      "---  ------        --------------   -----  \n",
      " 0   pelicula_id   179170 non-null  Int64  \n",
      " 1   cos_smltd     179170 non-null  Float64\n",
      " 2   vecino_id     179170 non-null  Int64  \n",
      " 3   title         179170 non-null  string \n",
      " 4   vecino_title  179170 non-null  string \n",
      "dtypes: Float64(1), Int64(2), string(2)\n",
      "memory usage: 7.7 MB\n"
     ]
    }
   ],
   "source": [
    "data_mvp_recomendacion.info()"
   ]
  },
  {
   "cell_type": "code",
   "execution_count": 48,
   "metadata": {},
   "outputs": [
    {
     "data": {
      "text/plain": [
       "{'pelicula': 'Toy Story',\n",
       " 'recomendaciones': ['Toy Story 2',\n",
       "  'Totally Fucked Up',\n",
       "  \"City Slickers II: The Legend of Curly's Gold\",\n",
       "  'Halloweentown',\n",
       "  'Cheech & Chong Get Out of My Room']}"
      ]
     },
     "execution_count": 48,
     "metadata": {},
     "output_type": "execute_result"
    }
   ],
   "source": [
    "#@app.get(\"/recomendacion/{titulo_pelicula}\")\n",
    "# definimos\n",
    "def recomendacion_pelicula(titulo_pelicula: str):\n",
    "    recomendacion_subset = data_mvp_recomendacion.loc[\n",
    "        data_mvp_recomendacion['title'].isin([titulo_pelicula])]\n",
    "    pelicula_vecinos = recomendacion_subset[['vecino_title']].reset_index().drop_duplicates()\n",
    "    pelicula_recomend = list(pelicula_vecinos['vecino_title'])\n",
    "    return {\n",
    "        'pelicula': titulo_pelicula,\n",
    "        'recomendaciones': pelicula_recomend}\n",
    "# test\n",
    "recomendacion_pelicula('Toy Story')"
   ]
  }
 ],
 "metadata": {
  "kernelspec": {
   "display_name": "pandas_scikit",
   "language": "python",
   "name": "python3"
  },
  "language_info": {
   "codemirror_mode": {
    "name": "ipython",
    "version": 3
   },
   "file_extension": ".py",
   "mimetype": "text/x-python",
   "name": "python",
   "nbconvert_exporter": "python",
   "pygments_lexer": "ipython3",
   "version": "3.10.12"
  },
  "orig_nbformat": 4
 },
 "nbformat": 4,
 "nbformat_minor": 2
}
