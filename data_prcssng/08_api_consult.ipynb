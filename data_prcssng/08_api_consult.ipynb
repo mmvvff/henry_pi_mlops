{
 "cells": [
  {
   "cell_type": "markdown",
   "metadata": {},
   "source": [
    "# API Interaction\n",
    "\n",
    "## Objectives\n",
    "1. Demonstrate how to interact with the IMDB-based API generated earlier.\n",
    "2. Retrieve and process data about directors and movies.\n",
    "3. Show how to handle nested JSON responses and convert them to pandas DataFrames.\n",
    "\n",
    "## Key Techniques Demonstrated\n",
    "- API requests using the `requests` library\n",
    "- JSON data processing\n",
    "- Handling nested data structures\n",
    "- Pandas DataFrame manipulation (json_normalize, merging, type conversion)\n",
    "\n",
    "## Contents\n",
    "1. Import packages\n",
    "2. Test the API connection\n",
    "3. Data retrieval and manipulation"
   ]
  },
  {
   "cell_type": "markdown",
   "metadata": {},
   "source": [
    "----\n",
    "## 1. Import packages"
   ]
  },
  {
   "cell_type": "code",
   "execution_count": 5,
   "metadata": {},
   "outputs": [],
   "source": [
    "import requests\n",
    "import pandas as pd"
   ]
  },
  {
   "cell_type": "markdown",
   "metadata": {},
   "source": [
    "----\n",
    "## 2. Test API connection"
   ]
  },
  {
   "cell_type": "code",
   "execution_count": 6,
   "metadata": {},
   "outputs": [
    {
     "name": "stdout",
     "output_type": "stream",
     "text": [
      "{\"message\":\"API del proyecto: Henry PI_MLOPS, por mmvvff\"}\n"
     ]
    }
   ],
   "source": [
    "# Define the API endpoint URL for the Recommendation system based on IMDB data\n",
    "api_imdb = \"https://henry-mlops-imdb.onrender.com/\"\n",
    "\n",
    "# Send a GET request to the IMDB API endpoint\n",
    "response_api = requests.get(api_imdb)\n",
    "\n",
    "# Print the raw text response from the API\n",
    "print(response_api.text)"
   ]
  },
  {
   "cell_type": "markdown",
   "metadata": {},
   "source": [
    "----\n",
    "## 3. Data retrieval and manipulation\n",
    "\n",
    "### 3.1. Director Information Retrieval\n",
    "First, we fetch data about a specific director (Woody Allen).\n"
   ]
  },
  {
   "cell_type": "code",
   "execution_count": 7,
   "metadata": {},
   "outputs": [
    {
     "data": {
      "text/html": [
       "<div>\n",
       "<style scoped>\n",
       "    .dataframe tbody tr th:only-of-type {\n",
       "        vertical-align: middle;\n",
       "    }\n",
       "\n",
       "    .dataframe tbody tr th {\n",
       "        vertical-align: top;\n",
       "    }\n",
       "\n",
       "    .dataframe thead th {\n",
       "        text-align: right;\n",
       "    }\n",
       "</style>\n",
       "<table border=\"1\" class=\"dataframe\">\n",
       "  <thead>\n",
       "    <tr style=\"text-align: right;\">\n",
       "      <th></th>\n",
       "      <th>director</th>\n",
       "      <th>retorno total</th>\n",
       "      <th>peliculas</th>\n",
       "    </tr>\n",
       "  </thead>\n",
       "  <tbody>\n",
       "    <tr>\n",
       "      <th>0</th>\n",
       "      <td>Woody Allen</td>\n",
       "      <td>3.02</td>\n",
       "      <td>{'nombre': 'Mighty Aphrodite', 'fecha_lanzamie...</td>\n",
       "    </tr>\n",
       "    <tr>\n",
       "      <th>1</th>\n",
       "      <td>Woody Allen</td>\n",
       "      <td>3.02</td>\n",
       "      <td>{'nombre': 'Bullets Over Broadway', 'fecha_lan...</td>\n",
       "    </tr>\n",
       "    <tr>\n",
       "      <th>2</th>\n",
       "      <td>Woody Allen</td>\n",
       "      <td>3.02</td>\n",
       "      <td>{'nombre': 'Manhattan Murder Mystery', 'fecha_...</td>\n",
       "    </tr>\n",
       "  </tbody>\n",
       "</table>\n",
       "</div>"
      ],
      "text/plain": [
       "      director  retorno total  \\\n",
       "0  Woody Allen           3.02   \n",
       "1  Woody Allen           3.02   \n",
       "2  Woody Allen           3.02   \n",
       "\n",
       "                                           peliculas  \n",
       "0  {'nombre': 'Mighty Aphrodite', 'fecha_lanzamie...  \n",
       "1  {'nombre': 'Bullets Over Broadway', 'fecha_lan...  \n",
       "2  {'nombre': 'Manhattan Murder Mystery', 'fecha_...  "
      ]
     },
     "execution_count": 7,
     "metadata": {},
     "output_type": "execute_result"
    }
   ],
   "source": [
    "# Define the API URL with placeholder for director name\n",
    "url_imdb_director = \"https://henry-mlops-imdb.onrender.com/director_exitoso/{}\"\n",
    "\n",
    "# Define the director name\n",
    "query_director = \"Woody Allen\"\n",
    "\n",
    "# Format the API URL with the director name\n",
    "api_imdb_director = url_imdb_director.format(query_director)\n",
    "\n",
    "# Send the GET request using requests\n",
    "response_api_director = requests.get(api_imdb_director)\n",
    "\n",
    "data_director_query = pd.DataFrame(response_api_director.json())\n",
    "data_director_query.head(3)"
   ]
  },
  {
   "cell_type": "markdown",
   "metadata": {},
   "source": [
    "Second, we process the nested JSON response.\n",
    "Third, we create a structured DataFrame with director and movie information"
   ]
  },
  {
   "cell_type": "code",
   "execution_count": 8,
   "metadata": {},
   "outputs": [
    {
     "name": "stdout",
     "output_type": "stream",
     "text": [
      "<class 'pandas.core.frame.DataFrame'>\n",
      "RangeIndex: 49 entries, 0 to 48\n",
      "Data columns (total 7 columns):\n",
      " #   Column             Non-Null Count  Dtype  \n",
      "---  ------             --------------  -----  \n",
      " 0   director           49 non-null     string \n",
      " 1   retorno total      49 non-null     Float64\n",
      " 2   nombre             49 non-null     string \n",
      " 3   fecha_lanzamiento  49 non-null     string \n",
      " 4   costo (USD)        49 non-null     string \n",
      " 5   ganancia (USD)     49 non-null     string \n",
      " 6   retorno (ratio)    49 non-null     Float64\n",
      "dtypes: Float64(2), string(5)\n",
      "memory usage: 2.9 KB\n"
     ]
    },
    {
     "data": {
      "text/html": [
       "<div>\n",
       "<style scoped>\n",
       "    .dataframe tbody tr th:only-of-type {\n",
       "        vertical-align: middle;\n",
       "    }\n",
       "\n",
       "    .dataframe tbody tr th {\n",
       "        vertical-align: top;\n",
       "    }\n",
       "\n",
       "    .dataframe thead th {\n",
       "        text-align: right;\n",
       "    }\n",
       "</style>\n",
       "<table border=\"1\" class=\"dataframe\">\n",
       "  <thead>\n",
       "    <tr style=\"text-align: right;\">\n",
       "      <th></th>\n",
       "      <th>director</th>\n",
       "      <th>retorno total</th>\n",
       "      <th>nombre</th>\n",
       "      <th>fecha_lanzamiento</th>\n",
       "      <th>costo (USD)</th>\n",
       "      <th>ganancia (USD)</th>\n",
       "      <th>retorno (ratio)</th>\n",
       "    </tr>\n",
       "  </thead>\n",
       "  <tbody>\n",
       "    <tr>\n",
       "      <th>0</th>\n",
       "      <td>Woody Allen</td>\n",
       "      <td>3.02</td>\n",
       "      <td>Mighty Aphrodite</td>\n",
       "      <td>1995-09-13</td>\n",
       "      <td>15,000,000</td>\n",
       "      <td>6,700,000</td>\n",
       "      <td>0.45</td>\n",
       "    </tr>\n",
       "    <tr>\n",
       "      <th>1</th>\n",
       "      <td>Woody Allen</td>\n",
       "      <td>3.02</td>\n",
       "      <td>Bullets Over Broadway</td>\n",
       "      <td>1994-10-14</td>\n",
       "      <td>0</td>\n",
       "      <td>0</td>\n",
       "      <td>0.0</td>\n",
       "    </tr>\n",
       "    <tr>\n",
       "      <th>2</th>\n",
       "      <td>Woody Allen</td>\n",
       "      <td>3.02</td>\n",
       "      <td>Manhattan Murder Mystery</td>\n",
       "      <td>1993-08-18</td>\n",
       "      <td>13,500,000</td>\n",
       "      <td>11,285,588</td>\n",
       "      <td>0.84</td>\n",
       "    </tr>\n",
       "    <tr>\n",
       "      <th>3</th>\n",
       "      <td>Woody Allen</td>\n",
       "      <td>3.02</td>\n",
       "      <td>Everyone Says I Love You</td>\n",
       "      <td>1996-12-06</td>\n",
       "      <td>20,000,000</td>\n",
       "      <td>0</td>\n",
       "      <td>0.0</td>\n",
       "    </tr>\n",
       "    <tr>\n",
       "      <th>4</th>\n",
       "      <td>Woody Allen</td>\n",
       "      <td>3.02</td>\n",
       "      <td>Sleeper</td>\n",
       "      <td>1973-12-17</td>\n",
       "      <td>2,000,000</td>\n",
       "      <td>18,344,729</td>\n",
       "      <td>9.17</td>\n",
       "    </tr>\n",
       "  </tbody>\n",
       "</table>\n",
       "</div>"
      ],
      "text/plain": [
       "      director  retorno total                    nombre fecha_lanzamiento  \\\n",
       "0  Woody Allen           3.02          Mighty Aphrodite        1995-09-13   \n",
       "1  Woody Allen           3.02     Bullets Over Broadway        1994-10-14   \n",
       "2  Woody Allen           3.02  Manhattan Murder Mystery        1993-08-18   \n",
       "3  Woody Allen           3.02  Everyone Says I Love You        1996-12-06   \n",
       "4  Woody Allen           3.02                   Sleeper        1973-12-17   \n",
       "\n",
       "  costo (USD) ganancia (USD)  retorno (ratio)  \n",
       "0  15,000,000      6,700,000             0.45  \n",
       "1           0              0              0.0  \n",
       "2  13,500,000     11,285,588             0.84  \n",
       "3  20,000,000              0              0.0  \n",
       "4   2,000,000     18,344,729             9.17  "
      ]
     },
     "execution_count": 8,
     "metadata": {},
     "output_type": "execute_result"
    }
   ],
   "source": [
    "# Set the index of the DataFrame to the 'director' column\n",
    "data_director_query_nested = data_director_query.set_index(\"director\")\n",
    "\n",
    "# Unnest the nested list using pandas.json_normalize and set the index to the original index\n",
    "data_director_query_unnested = pd.json_normalize(\n",
    "    data_director_query_nested[\"peliculas\"]).set_index(data_director_query_nested.index)\n",
    "\n",
    "# Merge the 'director' information DataFrame (excluding the 'peliculas' column and duplicates)\n",
    "# with the unnested movie DataFrame on the 'director' index\n",
    "data_director_expanded = pd.merge(\n",
    "    data_director_query.drop(columns=[\"peliculas\"]).drop_duplicates().set_index(\"director\"),\n",
    "    data_director_query_unnested,\n",
    "    left_index=True, right_index=True\n",
    "# Reset the index to create a new column for the index and convert data types\n",
    ").reset_index().convert_dtypes()\n",
    "\n",
    "data_director_expanded.info()\n",
    "data_director_expanded.head()"
   ]
  },
  {
   "cell_type": "markdown",
   "metadata": {},
   "source": [
    "### 3.2. Movie Recommendations\n",
    "We retrieve movie recommendations based on a given movie title, and display the recommendations in a pandas DataFrame."
   ]
  },
  {
   "cell_type": "code",
   "execution_count": 10,
   "metadata": {},
   "outputs": [
    {
     "data": {
      "text/html": [
       "<div>\n",
       "<style scoped>\n",
       "    .dataframe tbody tr th:only-of-type {\n",
       "        vertical-align: middle;\n",
       "    }\n",
       "\n",
       "    .dataframe tbody tr th {\n",
       "        vertical-align: top;\n",
       "    }\n",
       "\n",
       "    .dataframe thead th {\n",
       "        text-align: right;\n",
       "    }\n",
       "</style>\n",
       "<table border=\"1\" class=\"dataframe\">\n",
       "  <thead>\n",
       "    <tr style=\"text-align: right;\">\n",
       "      <th></th>\n",
       "      <th>pelicula</th>\n",
       "      <th>recomendaciones</th>\n",
       "    </tr>\n",
       "  </thead>\n",
       "  <tbody>\n",
       "    <tr>\n",
       "      <th>0</th>\n",
       "      <td>Top Gun</td>\n",
       "      <td>Always</td>\n",
       "    </tr>\n",
       "    <tr>\n",
       "      <th>1</th>\n",
       "      <td>Top Gun</td>\n",
       "      <td>Blue Chips</td>\n",
       "    </tr>\n",
       "    <tr>\n",
       "      <th>2</th>\n",
       "      <td>Top Gun</td>\n",
       "      <td>For the Moment</td>\n",
       "    </tr>\n",
       "    <tr>\n",
       "      <th>3</th>\n",
       "      <td>Top Gun</td>\n",
       "      <td>Area 88</td>\n",
       "    </tr>\n",
       "    <tr>\n",
       "      <th>4</th>\n",
       "      <td>Top Gun</td>\n",
       "      <td>Return with Honor</td>\n",
       "    </tr>\n",
       "  </tbody>\n",
       "</table>\n",
       "</div>"
      ],
      "text/plain": [
       "  pelicula    recomendaciones\n",
       "0  Top Gun             Always\n",
       "1  Top Gun         Blue Chips\n",
       "2  Top Gun     For the Moment\n",
       "3  Top Gun            Area 88\n",
       "4  Top Gun  Return with Honor"
      ]
     },
     "execution_count": 10,
     "metadata": {},
     "output_type": "execute_result"
    }
   ],
   "source": [
    "# Define the API URL with placeholder for director name\n",
    "url_imdb_recommend = \"https://henry-mlops-imdb.onrender.com/recomendacion_pelicula/{}\"\n",
    "\n",
    "# Define the director name\n",
    "query_movie = \"Top Gun\"\n",
    "\n",
    "# Format the API URL with the director name\n",
    "api_imdb_movie = url_imdb_recommend.format(query_movie)\n",
    "\n",
    "# Send the GET request using requests\n",
    "response_api_movie = requests.get(api_imdb_movie)\n",
    "\n",
    "data_movie_query = pd.DataFrame(response_api_movie.json())\n",
    "data_movie_query.head(5)"
   ]
  }
 ],
 "metadata": {
  "kernelspec": {
   "display_name": "pandas_scikit",
   "language": "python",
   "name": "python3"
  },
  "language_info": {
   "codemirror_mode": {
    "name": "ipython",
    "version": 3
   },
   "file_extension": ".py",
   "mimetype": "text/x-python",
   "name": "python",
   "nbconvert_exporter": "python",
   "pygments_lexer": "ipython3",
   "version": "3.11.9"
  }
 },
 "nbformat": 4,
 "nbformat_minor": 2
}
